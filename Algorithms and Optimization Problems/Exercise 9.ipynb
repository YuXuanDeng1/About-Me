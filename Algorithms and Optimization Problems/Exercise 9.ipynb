{
 "cells": [
  {
   "cell_type": "markdown",
   "id": "5407494b-3cca-4d34-a029-6c82215ad663",
   "metadata": {},
   "source": [
    "# Exercises for Week 9: Concrete Formulation II\n",
    "\n",
    "\n"
   ]
  },
  {
   "cell_type": "markdown",
   "id": "384717a1-667d-436c-8abc-7f7ac0b0867c",
   "metadata": {},
   "source": [
    "## Grading Scheme:\n",
    "Important: This Jupyter notebook needs to be completed and submitted via Blackboard before the due date to receive a non-zero grade.\n",
    "\n",
    "- 5: Every question is completed and the solution is essentially correct. This means that the math formulation correctly models the given problem.\n",
    "- 4: Almost complete, but certain questions are blank, or the math formulation is seriously flawed. \n",
    "- 3: This score will not be assigned, as everyone should strive to get 4 or 5.\n",
    "- 2: Not close to complete, but at least 50% complete.\n",
    "- 1: At least 10% complete, but less than 50% complete\n",
    "- 0: Less than 10% complete, or response is identical to someone else's, indicating plagiarism.\n",
    "\n",
    "A perfect score is 5. Before submitting, you should double check that your math formulations make sense, by plugging in concrete numbers and verifying that the constraints are satisfied. \n",
    "\n",
    "These exercises are intended to be completed in 6-8 hours, including the individual-work time in class. You should budget at least this much time before the due date."
   ]
  },
  {
   "cell_type": "markdown",
   "id": "68078ac2-a08a-48bd-86da-ae73aa894abb",
   "metadata": {},
   "source": [
    "## Name: Lucian Deng 9337020466"
   ]
  },
  {
   "cell_type": "markdown",
   "id": "6e8df9f2-6463-4a57-ae90-f0d28ea8fc90",
   "metadata": {},
   "source": [
    "## Exercise 9.1: Investment Planning\n",
    "\n",
    "Finco Investment Corporation wishes to determine an investment strategy for the firm for the next 3 years. At present (Year 0), $100,000$ is available for investment. The goal is to maximize the cash on hand at the end of Year 3. \n",
    "\n",
    "There are five investment options, each of which allows you to put in an arbitrary amount of principal at a given time, and will payoff a certain percentage of the principal at a later time. (The payoff includes all of the money you will get back; you won't get back the principal at a later time.) The five options are summarized below:\n",
    "\n",
    "|Investment option | Time of investment | Payoff schedule |\n",
    "|--|--|--|\n",
    "|A | Year 0 | 50\\% in Year 1 and 100\\% in Year 2 |\n",
    "|B | Year 1 | 50\\% in Year 2 and 100\\% in Year 3 |\n",
    "|C|  Year 0 | 120\\% in Year 1  |\n",
    "|D| Year 0 | 190\\% in Year 3 |\n",
    "|E| Year 2 | 150\\% in Year 3 |\n",
    "\n",
    "To ensure that the company’s portfolio is diversified, Finco required that at most \\$75,000 be placed in any single investment option. Payoffs happen at the beginning of the year, so can be reinvested in the same year. For example, the positive cash flow received from Option C in Year 1 can be reinvested immediately in Option B. However, Finco cannot borrow funds, so net cash on hand must be non-negative in all years. Formulate this as a linear optimization problem."
   ]
  },
  {
   "cell_type": "markdown",
   "id": "f69ab8dd-d556-401b-ab9b-c04922a1d380",
   "metadata": {},
   "source": [
    "###  English Description\n",
    "\n",
    "**Decision:** \n",
    "- How much to spend on each option\n",
    "- how much money is available to invest in each year\n",
    "\n",
    "**Objective:**\n",
    "- Maximize money left at end of year 3\n",
    "\n",
    "**Constraints:**\n",
    "- 100,000 dollars at beginning\n",
    "- 75,000 dollars at most for each investment\n",
    "- money available at t = previous money t-1 - investments + returns\n"
   ]
  },
  {
   "cell_type": "markdown",
   "id": "0784024f-6f4b-4aaa-bbe4-7482f81bed62",
   "metadata": {},
   "source": [
    "### Concrete Formulation\n",
    "\n",
    "**Decision Variables:**\n",
    "\n",
    "- ${A}$: Investment A\n",
    "- ${B}$: Investment B\n",
    "- ${C}$: Investment C\n",
    "- ${D}$: Investment D\n",
    "- ${E}$: Investment E\n",
    "- ${X_{0}}$: Money left Year 0 \n",
    "- ${X_{1}}$: Money left Year 1\n",
    "- ${X_{2}}$: Money left Year 2\n",
    "- ${X_{3}}$: Money left Year 3\n",
    "\n",
    "**Objective:**\n",
    "\n",
    "$${Maximize} \\qquad X_{3}$$\n",
    "\n",
    "**Constraints:**\n",
    "\n",
    "$$\\begin{aligned}\n",
    "\\text{(Year 0 money left)} && X_{0} & = 100,000-A-C-D \\\\ \n",
    "\\text{(Year 1 money left)} && X_{1} & = X_{0}-B+0.5A+1.2C \\\\ \n",
    "\\text{(Year 2 money left)} && X_{2} & = X_{1}-E+1A+0.5B \\\\\n",
    "\\text{(Year 3 money left)} && X_{3} & = X_{2}+1B+1.9D+1.5E \\\\\n",
    "\\text{(Non-Negativity)} && X_{0},X_{1},X_{2},X_{3} & \\ge 0 \\\\\n",
    "\\text{(Investment restriction)} && 0 \\le A,B,C,D,E & \\le 75,000 \\\\\n",
    "\\end{aligned}$$\n"
   ]
  },
  {
   "cell_type": "markdown",
   "id": "e52ba2d5-28a9-4613-abc6-cb0eb0dbfa19",
   "metadata": {},
   "source": [
    "## Exercise 9.2: Nurse Scheduling Revisited\n",
    "\n",
    "This question modifies the nurse-scheduling probelm from last week by incorporating multiple shift lengths. \n",
    "\n",
    "Hospital administrators must schedule nurses so that the hospital’s patients are provided with adequate care. At the same time, in the face of tighter competition in the health care industry, they must pay careful attention to keeping costs down. \n",
    "\n",
    "From historical records, administrators estimated the minimum number of nurses to have on hand for the various times of the day, as shown in the following table. \n",
    "\n",
    "| Shift | Time | Minimum number of nurses needed |\n",
    "|--|--|--|\n",
    "| 1 | Midnight-4am | 5 |\n",
    "| 2 | 4am-8am | 12 |\n",
    "| 3 | 8am-noon | 14 |\n",
    "| 4 | noon-4pm | 8 |\n",
    "| 5 | 4pm-8pm | 14 |\n",
    "| 6 | 8pm-Midnight | 10 |\n",
    "\n",
    "**In a given day, a nurse can either work for one shift, or for two consecutive shifts. The hourly pay for a four hour shift is 60 dollars/hour, while the hourly pay for an eight hour shift (two consecutive shifts) is 50 dollars/hour.** As a result, in each shift, there are two types of nurses: those working for two shifts that started in the previous shift (and are now working their second shift), and those that just started in this shift (some of whom may be working in the next shift as well). Note that a nurse working two shifts who starts at the 8pm-Midnight shift would finish work after the next day's Midnight-4am shift.\n",
    "\n",
    "Formulate a linear optimization problem to **minimize the total cost per day for hiring nurses** subject to being able to fulfill all business constraints. (For this problem, you only need to submit the concrete formulation, but don't need to submit the English description.)"
   ]
  },
  {
   "cell_type": "markdown",
   "id": "f08650f7-16bd-4b24-8ea1-378af351b255",
   "metadata": {},
   "source": [
    "**Decision variable:** \n",
    "\n",
    "- ${A}$: Shift A\n",
    "- ${B}$: Shift B\n",
    "- ${C}$: Shift C\n",
    "- ${D}$: Shift D\n",
    "- ${E}$: Shift E\n",
    "- ${F}$: Shift F\n",
    "- ${X}$: Two shift or 1 shift\n",
    "\n",
    "**Objective**\n",
    "\n",
    "$${Minimize}: \\qquad A\n",
    "\n",
    "**Constraints:**\n"
   ]
  },
  {
   "cell_type": "markdown",
   "id": "58a7336d-0e0e-494a-aa1f-5b91c89e5410",
   "metadata": {},
   "source": [
    "## Exercise 9.3: Optimal Box Selection\n",
    "\n",
    "A company sells items of various sizes and ships them to customers using special boxes. While the sizes of the items are fixed, the company can decide what sized boxes to use for shipping. The following table lists the types of items, along with the minimum box size needed for each item, as well as the number of each item that needs to be shipped. \n",
    "\n",
    "| Item type | 1 | 2 | 3 | \n",
    "|--|--|--|--|\n",
    "| Minimum box size (in cubit feet) | 1.5 | 1.7 | 2.0 |\n",
    "| Demand | 400 | 500 | 200 |\n",
    "\n",
    "For simplicity, the company limits the set of possible box sizes to be exactly the sizes listed in the table above. In order to satisfy demand, the company can always use a larger box to ship a smaller item. For example, a type-1 item can be shipped with a box of size 1.5, but can also be shipped using boxes of sizes 1.7 or 2.0. \n",
    "\n",
    "While larger boxes are more flexible, they are also more expensive to make: **the variable cost** (in dollars) of making each box is exactly equal to the box size. However, the higher variable cost might be worth it since to produce a box of a certain size, the company needs to pay a **fixed cost** of 1000 to create the mold. So using larger boxes might allow the company to make do with fewer box types, which would lower the total fixed cost. For example, using boxes of all three types would incur a fixed cost of 3000, while using only boxes of size 2.0 would incur a fixed cost of 1000. \n",
    "\n",
    "Write a linear optimization formulation to help the company determine which box types to produce, as well as how many boxes of each size to produce, in order to minimize the total cost while satisfying all demand. (The total cost is the sum of the total variable cost and the total fixed cost. )"
   ]
  },
  {
   "cell_type": "markdown",
   "id": "4f585602-58f2-4976-bc55-9cd400cbb2f0",
   "metadata": {},
   "source": [
    "### English Description\n",
    "\n",
    "**Decision:**\n",
    "\n",
    "\n",
    "**Objective:** \n",
    "\n",
    "**Constraints:**\n",
    "\n",
    "\n"
   ]
  },
  {
   "cell_type": "markdown",
   "id": "e29aaf47-12a0-44d4-bb06-371df8eefa21",
   "metadata": {},
   "source": [
    "### Concrete Formulation\n",
    "\n",
    "**Decision Variables:**\n",
    "\n",
    "\n",
    "**Objective:**\n",
    "\n",
    "\n",
    "**Constraints:**\n",
    "\n",
    "\n"
   ]
  },
  {
   "cell_type": "markdown",
   "id": "658e644b-604c-4d88-a6b4-b8ae0de8a66a",
   "metadata": {},
   "source": [
    "## Exercise 9.4: Course Selection \n",
    "\n",
    "Aithne is currently enrolled in a Masters program at USC and is planning her courses for the next 2 semesters. There are five elective courses she would like to take, which we refer to as Courses A, B, C, D, and E. Based on her conversations with past students and prospective employers, she has estimated an \"importance score\" for each course, as well as the \"workload\" in terms of hours of work needed per week. Moreover, the schedules for the next two semesters have already been published, and this gives her information about scheduling conflicts as well as how much time she can afford to spend on these electives after accounting for her mandatory courses and other responsibilities. **Each course is a single semester long and can be taken only once, but the same course may be offered in both semesters, so she can choose when to take each course as well as whether to take it.** These information are summarized in the three tables below.\n",
    "\n",
    "| Course | **A** | **B** | **C** | **D** | **E** |\n",
    "|--|--|--|--|--|--|\n",
    "|Importance Score |5 | 3 | 2 |4 |5|\n",
    "| Workload (hours/week) | 15 | 10 | 10 | 5| 10\n",
    "\n",
    "| Schedule | Semester 1 | Semester 2 |\n",
    "|--|--|--|\n",
    "|**A**| Tue/Thu 11-12:20 |  Mon/Wed 12:30-13:50 |\n",
    "|**B**| Tue 9-12:00 | Tue 9:00-12:00 |\n",
    "|**C**| Mon/Wed 12:30-13:50 | Not offered |\n",
    "|**D**| Mon 12:00-15:00 | Tue/Thu 11:00-12:20 |\n",
    "|**E**| Mon/Wed 14:00-15:50 | Tue/Thu 11:00-12:20 | \n",
    "|Total time she can afford to spend | 20 hours/week | 15 hours/week |\n",
    "\n",
    "Furthermore, **Course A is a pre-requisite of Course D**, which means that if Aithne wishes to take Course D, she must take it in Semester 2 after taking Course A in Semester 1. Moreover, **Course A is a co-requisite of Course E**, which means that if she takes Course E in a semester, she must either be concurrently taking Course A or has already completed the course in a previous semester. (However, Course A can be taken by itself, without concurrently taking Course E.)\n",
    "\n",
    "Aithne would like to plan a schedule that maximizes the total importance score of courses she takes. For example, if she takes only courses A and B in the two semesters, the total importance score would be $5+3=8$. **Write a concrete formulation of a linear optimization model to help Aithne plan her course selection for the two semesters. The objective and all constraints must be linear.** (For this problem, you only need to submit the concrete formulation, but don't need to submit the English description.)"
   ]
  },
  {
   "cell_type": "markdown",
   "id": "88d37c78-9f2b-4ae8-b211-5c1d92247604",
   "metadata": {},
   "source": [
    "**Decision Variables:** \n",
    "\n",
    "\n",
    "**Objective:** \n",
    "\n",
    "\n",
    "\n",
    "\n",
    "**Constraints:**\n",
    "\n",
    "\n"
   ]
  }
 ],
 "metadata": {
  "kernelspec": {
   "display_name": "Python 3 (ipykernel)",
   "language": "python",
   "name": "python3"
  },
  "language_info": {
   "codemirror_mode": {
    "name": "ipython",
    "version": 3
   },
   "file_extension": ".py",
   "mimetype": "text/x-python",
   "name": "python",
   "nbconvert_exporter": "python",
   "pygments_lexer": "ipython3",
   "version": "3.11.4"
  }
 },
 "nbformat": 4,
 "nbformat_minor": 5
}
