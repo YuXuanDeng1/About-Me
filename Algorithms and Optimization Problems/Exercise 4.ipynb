{
 "cells": [
  {
   "cell_type": "markdown",
   "id": "55ebc4d3-fe4a-4011-815b-f3006cf2ad98",
   "metadata": {},
   "source": [
    "# Exercises for Week 4: Coding and Debugging More Quickly"
   ]
  },
  {
   "cell_type": "markdown",
   "id": "b115c7b1-e070-4b0d-8665-845d2f2421d5",
   "metadata": {},
   "source": [
    "## Grading Scheme:\n",
    "Important: This Jupyter notebook needs to be completed and submitted via Blackboard before the due date to receive a non-zero grade.\n",
    "\n",
    "- 5: Every question is completed and the code returns the correct outputs on all of the sample inputs.\n",
    "- 4: Almost complete, but certain questions are blank, returns clearly incorrect outputs, or the code there does not run at all.\n",
    "- 3: This score will not be assigned, as everyone should strive to get 4 or 5.\n",
    "- 2: Not close to complete, but at least 50% complete.\n",
    "- 1: At least 10% complete, but less than 50% complete\n",
    "- 0: Less than 10% complete, or response is identical to someone else's, indicating plagiarism.\n",
    "\n",
    "A perfect score is 5. Note that your code does not need to be absolutely perfect to receive a 5, but you need to complete every question and ensure that the outputs are correct on all of the sample runs included here. **To ensure that you get 5 out of 5, before you submit, restart the Kernel and run all, and check that all of the outputs are as intended.**\n",
    "\n",
    "These exercises are intended to be completed in 5-7 hours, including class time. You should budget at least this much time before the due date."
   ]
  },
  {
   "cell_type": "markdown",
   "id": "5b561892-2107-462e-86fb-e50fc2411d15",
   "metadata": {},
   "source": [
    "## Name: Yu Xuan (Lucian) Deng 9337020466"
   ]
  },
  {
   "cell_type": "markdown",
   "id": "89decb34-88d0-459a-a68c-306b79fb9d3a",
   "metadata": {},
   "source": [
    "## Exercise 4.1: Practicing Debugging\n",
    "\n",
    "**In the following, you should try to make the code correct using as few changes as possible, after figuring out the errors using code dissection and print debugging.** Do not rewrite the code from scratch or copy/paste a correct solution. Refer to previous weeks' handouts for the instructions to these exercises.\n"
   ]
  },
  {
   "cell_type": "markdown",
   "id": "e11fcaf6-7a10-435b-ae3a-8255d1cb282c",
   "metadata": {},
   "source": [
    "### a) Attempt for the \"Referral Marketing\" Example from Week 2"
   ]
  },
  {
   "cell_type": "code",
   "execution_count": 424,
   "id": "8ccbf347-b060-4fdb-b5b0-40a4b6b4ffd1",
   "metadata": {
    "tags": []
   },
   "outputs": [],
   "source": [
    "# Code to debug\n",
    "def buyer(nmonths):\n",
    "    \n",
    "    buyers=[1]\n",
    "    for n in nmonths:\n",
    "        buyers = buyers[-1]+buyers[-2]\n",
    "    return buyers[-1]"
   ]
  },
  {
   "cell_type": "code",
   "execution_count": 425,
   "id": "f7baff30-b5ce-4a06-a2b5-d0ee26e3a24f",
   "metadata": {
    "tags": []
   },
   "outputs": [
    {
     "ename": "TypeError",
     "evalue": "'int' object is not iterable",
     "output_type": "error",
     "traceback": [
      "\u001b[0;31m---------------------------------------------------------------------------\u001b[0m",
      "\u001b[0;31mTypeError\u001b[0m                                 Traceback (most recent call last)",
      "Cell \u001b[0;32mIn[425], line 1\u001b[0m\n\u001b[0;32m----> 1\u001b[0m buyer(\u001b[38;5;241m12\u001b[39m)\n",
      "Cell \u001b[0;32mIn[424], line 5\u001b[0m, in \u001b[0;36mbuyer\u001b[0;34m(nmonths)\u001b[0m\n\u001b[1;32m      2\u001b[0m \u001b[38;5;28;01mdef\u001b[39;00m \u001b[38;5;21mbuyer\u001b[39m(nmonths):\n\u001b[1;32m      4\u001b[0m     buyers\u001b[38;5;241m=\u001b[39m[\u001b[38;5;241m1\u001b[39m]\n\u001b[0;32m----> 5\u001b[0m     \u001b[38;5;28;01mfor\u001b[39;00m n \u001b[38;5;129;01min\u001b[39;00m nmonths:\n\u001b[1;32m      6\u001b[0m         buyers \u001b[38;5;241m=\u001b[39m buyers[\u001b[38;5;241m-\u001b[39m\u001b[38;5;241m1\u001b[39m]\u001b[38;5;241m+\u001b[39mbuyers[\u001b[38;5;241m-\u001b[39m\u001b[38;5;241m2\u001b[39m]\n\u001b[1;32m      7\u001b[0m     \u001b[38;5;28;01mreturn\u001b[39;00m buyers[\u001b[38;5;241m-\u001b[39m\u001b[38;5;241m1\u001b[39m]\n",
      "\u001b[0;31mTypeError\u001b[0m: 'int' object is not iterable"
     ]
    }
   ],
   "source": [
    "buyer(12)"
   ]
  },
  {
   "cell_type": "code",
   "execution_count": 426,
   "id": "4ff11d2e-6ce6-4c76-9a3c-239559dbc31e",
   "metadata": {
    "tags": []
   },
   "outputs": [
    {
     "ename": "TypeError",
     "evalue": "'int' object is not subscriptable",
     "output_type": "error",
     "traceback": [
      "\u001b[0;31m---------------------------------------------------------------------------\u001b[0m",
      "\u001b[0;31mTypeError\u001b[0m                                 Traceback (most recent call last)",
      "Cell \u001b[0;32mIn[426], line 4\u001b[0m\n\u001b[1;32m      2\u001b[0m buyers\u001b[38;5;241m=\u001b[39m[\u001b[38;5;241m1\u001b[39m,\u001b[38;5;241m1\u001b[39m]\n\u001b[1;32m      3\u001b[0m \u001b[38;5;28;01mfor\u001b[39;00m n \u001b[38;5;129;01min\u001b[39;00m months:\n\u001b[0;32m----> 4\u001b[0m     buyers \u001b[38;5;241m=\u001b[39m buyers[\u001b[38;5;241m-\u001b[39m\u001b[38;5;241m1\u001b[39m]\u001b[38;5;241m+\u001b[39mbuyers[\u001b[38;5;241m-\u001b[39m\u001b[38;5;241m2\u001b[39m]\n\u001b[1;32m      5\u001b[0m \u001b[38;5;28mprint\u001b[39m(buyers[\u001b[38;5;241m-\u001b[39m\u001b[38;5;241m1\u001b[39m])\n",
      "\u001b[0;31mTypeError\u001b[0m: 'int' object is not subscriptable"
     ]
    }
   ],
   "source": [
    "months = list(range(2,nmonths+1))\n",
    "buyers=[1,1]\n",
    "for n in months:\n",
    "    buyers = buyers[-1]+buyers[-2]\n",
    "print(buyers[-1])"
   ]
  },
  {
   "cell_type": "code",
   "execution_count": 427,
   "id": "7f13a9ff-3d5d-4632-a4cf-69c7ba8a7662",
   "metadata": {
    "tags": []
   },
   "outputs": [
    {
     "name": "stdout",
     "output_type": "stream",
     "text": [
      "233\n"
     ]
    }
   ],
   "source": [
    "months = list(range(2,nmonths+1))\n",
    "buyers=[1,1]\n",
    "for n in months:\n",
    "    buyers.append(buyers[-1]+buyers[-2])\n",
    "print(buyers[-1])"
   ]
  },
  {
   "cell_type": "code",
   "execution_count": 428,
   "id": "34b368aa-ef90-48b0-a221-dcfe79711283",
   "metadata": {
    "tags": []
   },
   "outputs": [],
   "source": [
    "# Corrected code\n",
    "def buyer(nmonths):\n",
    "    months = list(range(2,nmonths+1))\n",
    "    buyers=[1,1]\n",
    "    for n in months:\n",
    "        buyers.append(buyers[-1]+buyers[-2])\n",
    "    return buyers[-1]"
   ]
  },
  {
   "cell_type": "code",
   "execution_count": 429,
   "id": "b9cb7c0e-3819-4586-9f0e-7076b1bf8c07",
   "metadata": {
    "tags": []
   },
   "outputs": [
    {
     "data": {
      "text/plain": [
       "233"
      ]
     },
     "execution_count": 429,
     "metadata": {},
     "output_type": "execute_result"
    }
   ],
   "source": [
    "# Test code\n",
    "buyer(12)"
   ]
  },
  {
   "cell_type": "markdown",
   "id": "7f8c985d-f1ce-4ecf-8d93-b5502b9c75a0",
   "metadata": {},
   "source": [
    "### b) Attempt for the \"Epidemic Capacity Planning\" Example from Week 3"
   ]
  },
  {
   "cell_type": "code",
   "execution_count": 430,
   "id": "aa6ff75d-f8da-44dd-9cb8-ad148749498b",
   "metadata": {
    "tags": []
   },
   "outputs": [],
   "source": [
    "# Code to debug\n",
    "def capacityNeeded(arrivals):\n",
    "    maxdemand=[arrivals[0]]\n",
    "    week=0\n",
    "    for i in range(0,(len(arrivals))):\n",
    "        week+=1\n",
    "        if i>=2:\n",
    "            demand=arrivals[i]+arrivals[i-1]+arrivals[i-2]\n",
    "        if i>=1:\n",
    "            demand=arrivals[i]+arrivals[i-1]\n",
    "     #   else:\n",
    "    #      demand=arrivals[i]\n",
    "        if maxdemand<demand:\n",
    "            maxdemand=demand\n",
    "    print(maxdemand)"
   ]
  },
  {
   "cell_type": "code",
   "execution_count": 431,
   "id": "382f59db-92ab-4006-8539-1633e2eb5b6e",
   "metadata": {
    "tags": []
   },
   "outputs": [
    {
     "ename": "TypeError",
     "evalue": "'<' not supported between instances of 'list' and 'int'",
     "output_type": "error",
     "traceback": [
      "\u001b[0;31m---------------------------------------------------------------------------\u001b[0m",
      "\u001b[0;31mTypeError\u001b[0m                                 Traceback (most recent call last)",
      "Cell \u001b[0;32mIn[431], line 13\u001b[0m\n\u001b[1;32m     10\u001b[0m         demand\u001b[38;5;241m=\u001b[39marrivals[i]\u001b[38;5;241m+\u001b[39marrivals[i\u001b[38;5;241m-\u001b[39m\u001b[38;5;241m1\u001b[39m]\n\u001b[1;32m     11\u001b[0m     \u001b[38;5;66;03m#   else:\u001b[39;00m\n\u001b[1;32m     12\u001b[0m  \u001b[38;5;66;03m#      demand=arrivals[i]\u001b[39;00m\n\u001b[0;32m---> 13\u001b[0m     \u001b[38;5;28;01mif\u001b[39;00m maxdemand\u001b[38;5;241m<\u001b[39mdemand:\n\u001b[1;32m     14\u001b[0m         maxdemand\u001b[38;5;241m=\u001b[39mdemand\n\u001b[1;32m     15\u001b[0m \u001b[38;5;28mprint\u001b[39m(maxdemand)\n",
      "\u001b[0;31mTypeError\u001b[0m: '<' not supported between instances of 'list' and 'int'"
     ]
    }
   ],
   "source": [
    "arrivals = [5,8,3,10,6,11,9,12,15,9,5,7]\n",
    "maxdemand=[arrivals[0]]\n",
    "demand = []\n",
    "week=0\n",
    "for i in range(0,(len(arrivals))):\n",
    "    week+=1\n",
    "    if i>=2:\n",
    "        demand=arrivals[i]+arrivals[i-1]+arrivals[i-2]\n",
    "    if i>=1:\n",
    "        demand=arrivals[i]+arrivals[i-1]\n",
    "    #   else:\n",
    " #      demand=arrivals[i]\n",
    "    if maxdemand<demand:\n",
    "        maxdemand=demand\n",
    "print(maxdemand)"
   ]
  },
  {
   "cell_type": "code",
   "execution_count": 432,
   "id": "0e7acbb1-ebb3-4461-8d2e-76e457f93951",
   "metadata": {
    "tags": []
   },
   "outputs": [
    {
     "ename": "IndexError",
     "evalue": "list index out of range",
     "output_type": "error",
     "traceback": [
      "\u001b[0;31m---------------------------------------------------------------------------\u001b[0m",
      "\u001b[0;31mIndexError\u001b[0m                                Traceback (most recent call last)",
      "Cell \u001b[0;32mIn[432], line 13\u001b[0m\n\u001b[1;32m     10\u001b[0m         demand\u001b[38;5;241m=\u001b[39marrivals[i]\u001b[38;5;241m+\u001b[39marrivals[i\u001b[38;5;241m-\u001b[39m\u001b[38;5;241m1\u001b[39m]\n\u001b[1;32m     11\u001b[0m     \u001b[38;5;66;03m#   else:\u001b[39;00m\n\u001b[1;32m     12\u001b[0m  \u001b[38;5;66;03m#      demand=arrivals[i]\u001b[39;00m\n\u001b[0;32m---> 13\u001b[0m     \u001b[38;5;28;01mif\u001b[39;00m maxdemand[i]\u001b[38;5;241m<\u001b[39mdemand[i]:\n\u001b[1;32m     14\u001b[0m         maxdemand\u001b[38;5;241m=\u001b[39mdemand\n\u001b[1;32m     15\u001b[0m \u001b[38;5;28mprint\u001b[39m(maxdemand)\n",
      "\u001b[0;31mIndexError\u001b[0m: list index out of range"
     ]
    }
   ],
   "source": [
    "arrivals = [5,8,3,10,6,11,9,12,15,9,5,7]\n",
    "maxdemand=[arrivals[0]]\n",
    "demand = []\n",
    "week=0\n",
    "for i in range(0,(len(arrivals))):\n",
    "    week+=1\n",
    "    if i>=2:\n",
    "        demand=arrivals[i]+arrivals[i-1]+arrivals[i-2]\n",
    "    if i>=1:\n",
    "        demand=arrivals[i]+arrivals[i-1]\n",
    "    #   else:\n",
    " #      demand=arrivals[i]\n",
    "    if maxdemand[i]<demand[i]:\n",
    "        maxdemand=demand\n",
    "print(maxdemand)"
   ]
  },
  {
   "cell_type": "code",
   "execution_count": 433,
   "id": "13f92666-2e62-44de-9d30-1e3876840b8a",
   "metadata": {
    "tags": []
   },
   "outputs": [
    {
     "name": "stdout",
     "output_type": "stream",
     "text": [
      "[5, 13, 16, 21, 19, 27, 26, 32, 36, 36, 29, 21]\n"
     ]
    }
   ],
   "source": [
    "arrivals = [5,8,3,10,6,11,9,12,15,9,5,7]\n",
    "maxdemand=[arrivals[0]]\n",
    "demand = []\n",
    "week=0\n",
    "for i in range(0,(len(arrivals))):\n",
    "    week+=1\n",
    "    if i>=2:\n",
    "        demand.append(arrivals[i]+arrivals[i-1]+arrivals[i-2])\n",
    "    elif i>=1:\n",
    "        demand.append(arrivals[i]+arrivals[i-1])\n",
    "    else:\n",
    "        demand.append(arrivals[i])\n",
    "    if maxdemand<demand:\n",
    "        maxdemand=demand\n",
    "print(maxdemand)"
   ]
  },
  {
   "cell_type": "code",
   "execution_count": 434,
   "id": "df7cc0b0-3caa-48d8-b0c9-6618a135186f",
   "metadata": {
    "tags": []
   },
   "outputs": [
    {
     "name": "stdout",
     "output_type": "stream",
     "text": [
      "36\n"
     ]
    }
   ],
   "source": [
    "arrivals = [5,8,3,10,6,11,9,12,15,9,5,7]\n",
    "maxdemand=[5]\n",
    "demand = [5]\n",
    "week=0\n",
    "for i in range(1,(len(arrivals))):\n",
    "    week+=1\n",
    "    if i>=2:\n",
    "        demand.append(arrivals[i]+arrivals[i-1]+arrivals[i-2])\n",
    "    elif i==1:\n",
    "        demand.append(arrivals[i]+arrivals[i-1])\n",
    "\n",
    "    if maxdemand[i-1]<demand[i]:\n",
    "        maxdemand.append(demand[i])\n",
    "    else:\n",
    "        maxdemand.append(maxdemand[i-1])\n",
    "print(maxdemand[-1])"
   ]
  },
  {
   "cell_type": "code",
   "execution_count": 435,
   "id": "adb95b09-9481-4219-8e74-216194418008",
   "metadata": {
    "tags": []
   },
   "outputs": [],
   "source": [
    "# Corrected code with intermediate printing, as in the outputs below.\n",
    "def capacityNeeded(arrivals):\n",
    "    maxdemand=[arrivals[0]]\n",
    "    demand = [arrivals[0]]\n",
    "    week=0\n",
    "    print('Week\\tArrival\\tDemand\\tMax Demand')\n",
    "    print(f'1\\t{arrivals[0]}\\t{demand[0]}\\t{maxdemand[0]}')\n",
    "    for i in range(1,(len(arrivals))):\n",
    "        week+=1\n",
    "        if i>=2:\n",
    "            demand.append(arrivals[i]+arrivals[i-1]+arrivals[i-2])\n",
    "        elif i==1:\n",
    "            demand.append(arrivals[i]+arrivals[i-1])\n",
    "\n",
    "        if maxdemand[i-1]<demand[i]:\n",
    "            maxdemand.append(demand[i])\n",
    "        else:\n",
    "            maxdemand.append(maxdemand[i-1])\n",
    "        print(f'{i+1}\\t{arrivals[i]}\\t{demand[i]}\\t{maxdemand[i]}')\n",
    "    return(maxdemand[-1])"
   ]
  },
  {
   "cell_type": "code",
   "execution_count": 436,
   "id": "3ced9e4e-217b-4396-a7de-ce4ff5202e98",
   "metadata": {
    "tags": []
   },
   "outputs": [
    {
     "name": "stdout",
     "output_type": "stream",
     "text": [
      "Week\tArrival\tDemand\tMax Demand\n",
      "1\t5\t5\t5\n",
      "2\t8\t13\t13\n",
      "3\t3\t16\t16\n",
      "4\t10\t21\t21\n",
      "5\t7\t20\t21\n",
      "6\t4\t21\t21\n",
      "7\t9\t20\t21\n",
      "8\t5\t18\t21\n",
      "9\t8\t22\t22\n",
      "Capacity Needed: 22\n"
     ]
    }
   ],
   "source": [
    "# Test code 1\n",
    "arrivals=[5,8,3,10,7,4,9,5,8]\n",
    "print('Capacity Needed:',capacityNeeded(arrivals))"
   ]
  },
  {
   "cell_type": "code",
   "execution_count": 437,
   "id": "61cd3ac2-d255-41c3-ab2c-ff37d75a291c",
   "metadata": {
    "tags": []
   },
   "outputs": [
    {
     "name": "stdout",
     "output_type": "stream",
     "text": [
      "Week\tArrival\tDemand\tMax Demand\n",
      "1\t5\t5\t5\n",
      "2\t8\t13\t13\n",
      "3\t3\t16\t16\n",
      "4\t10\t21\t21\n",
      "5\t6\t19\t21\n",
      "6\t11\t27\t27\n",
      "7\t9\t26\t27\n",
      "8\t12\t32\t32\n",
      "9\t15\t36\t36\n",
      "10\t9\t36\t36\n",
      "11\t5\t29\t36\n",
      "12\t7\t21\t36\n"
     ]
    },
    {
     "data": {
      "text/plain": [
       "36"
      ]
     },
     "execution_count": 437,
     "metadata": {},
     "output_type": "execute_result"
    }
   ],
   "source": [
    "# Test code 2\n",
    "capacityNeeded([5,8,3,10,6,11,9,12,15,9,5,7])"
   ]
  },
  {
   "cell_type": "markdown",
   "id": "12e65391-76fc-4282-ba13-b21dab73df02",
   "metadata": {},
   "source": [
    "### c) Attempt for Exercise 3.2: Demand Estimation for Substitutable Products"
   ]
  },
  {
   "cell_type": "code",
   "execution_count": 438,
   "id": "0396d62e-0246-487d-9979-4edc2380698d",
   "metadata": {
    "tags": []
   },
   "outputs": [],
   "source": [
    "def demand(priceVector,values):\n",
    "    for i in values:\n",
    "        product1=[]\n",
    "        product2=[]\n",
    "        diff0=values[0]-priceVector[0]\n",
    "        diff1=values[1]-priceVector[1]\n",
    "        if diff0<0 and diff1<0:\n",
    "            continue\n",
    "        elif diff0>=diff1:\n",
    "            product1.append(1)\n",
    "        else:\n",
    "            product2.append(1)\n",
    "        totalproduct=product1+product2\n",
    "        return totalproduct"
   ]
  },
  {
   "cell_type": "code",
   "execution_count": 439,
   "id": "ad5b6eb6-82e2-4005-bb4b-a83c9bb4f92c",
   "metadata": {
    "tags": []
   },
   "outputs": [
    {
     "data": {
      "text/plain": [
       "[1]"
      ]
     },
     "execution_count": 439,
     "metadata": {},
     "output_type": "execute_result"
    }
   ],
   "source": [
    "demand([3,4,5,6,7],[3,5,6,7,8])"
   ]
  },
  {
   "cell_type": "code",
   "execution_count": 440,
   "id": "ef96f7c4-a2fd-4554-8f7d-5a0647dfde81",
   "metadata": {
    "tags": []
   },
   "outputs": [
    {
     "ename": "TypeError",
     "evalue": "unsupported operand type(s) for -: 'list' and 'int'",
     "output_type": "error",
     "traceback": [
      "\u001b[0;31m---------------------------------------------------------------------------\u001b[0m",
      "\u001b[0;31mTypeError\u001b[0m                                 Traceback (most recent call last)",
      "Cell \u001b[0;32mIn[440], line 8\u001b[0m\n\u001b[1;32m      6\u001b[0m product1\u001b[38;5;241m=\u001b[39m[]\n\u001b[1;32m      7\u001b[0m product2\u001b[38;5;241m=\u001b[39m[]\n\u001b[0;32m----> 8\u001b[0m diff0\u001b[38;5;241m=\u001b[39mvalues[\u001b[38;5;241m0\u001b[39m]\u001b[38;5;241m-\u001b[39mpriceVector[\u001b[38;5;241m0\u001b[39m]\n\u001b[1;32m      9\u001b[0m diff1\u001b[38;5;241m=\u001b[39mvalues[\u001b[38;5;241m1\u001b[39m]\u001b[38;5;241m-\u001b[39mpriceVector[\u001b[38;5;241m1\u001b[39m]\n\u001b[1;32m     10\u001b[0m \u001b[38;5;28;01mif\u001b[39;00m diff0\u001b[38;5;241m<\u001b[39m\u001b[38;5;241m0\u001b[39m \u001b[38;5;129;01mand\u001b[39;00m diff1\u001b[38;5;241m<\u001b[39m\u001b[38;5;241m0\u001b[39m:\n",
      "\u001b[0;31mTypeError\u001b[0m: unsupported operand type(s) for -: 'list' and 'int'"
     ]
    }
   ],
   "source": [
    "values=[[25,15],[18,18],[30,20],[30,30]]\n",
    "priceVector=[25,20]\n",
    "product1=[]\n",
    "product2=[]\n",
    "for i in values:\n",
    "    product1=[]\n",
    "    product2=[]\n",
    "    diff0=values[0]-priceVector[0]\n",
    "    diff1=values[1]-priceVector[1]\n",
    "    if diff0<0 and diff1<0:\n",
    "        continue\n",
    "    elif diff0>=diff1:\n",
    "        product1.append(1)\n",
    "    else:\n",
    "        product2.append(1)\n",
    "    totalproduct=product1+product2\n",
    "print(totalproduct)"
   ]
  },
  {
   "cell_type": "code",
   "execution_count": 441,
   "id": "a76c46a3-458f-4a96-8157-5b96fef2bbdc",
   "metadata": {
    "tags": []
   },
   "outputs": [
    {
     "ename": "TypeError",
     "evalue": "list indices must be integers or slices, not list",
     "output_type": "error",
     "traceback": [
      "\u001b[0;31m---------------------------------------------------------------------------\u001b[0m",
      "\u001b[0;31mTypeError\u001b[0m                                 Traceback (most recent call last)",
      "Cell \u001b[0;32mIn[441], line 6\u001b[0m\n\u001b[1;32m      4\u001b[0m product2\u001b[38;5;241m=\u001b[39m[]\n\u001b[1;32m      5\u001b[0m \u001b[38;5;28;01mfor\u001b[39;00m i \u001b[38;5;129;01min\u001b[39;00m values:\n\u001b[0;32m----> 6\u001b[0m     diff0\u001b[38;5;241m=\u001b[39mvalues[i][\u001b[38;5;241m0\u001b[39m]\u001b[38;5;241m-\u001b[39mpriceVector[\u001b[38;5;241m0\u001b[39m]\n\u001b[1;32m      7\u001b[0m     diff1\u001b[38;5;241m=\u001b[39mvalues[i][\u001b[38;5;241m1\u001b[39m]\u001b[38;5;241m-\u001b[39mpriceVector[\u001b[38;5;241m1\u001b[39m]\n\u001b[1;32m      8\u001b[0m     \u001b[38;5;28;01mif\u001b[39;00m diff0\u001b[38;5;241m<\u001b[39m\u001b[38;5;241m0\u001b[39m \u001b[38;5;129;01mand\u001b[39;00m diff1\u001b[38;5;241m<\u001b[39m\u001b[38;5;241m0\u001b[39m:\n",
      "\u001b[0;31mTypeError\u001b[0m: list indices must be integers or slices, not list"
     ]
    }
   ],
   "source": [
    "values=[[25,15],[18,18],[30,20],[30,30]]\n",
    "priceVector=[25,20]\n",
    "product1=[]\n",
    "product2=[]\n",
    "for i in values:\n",
    "    diff0=values[i][0]-priceVector[0]\n",
    "    diff1=values[i][1]-priceVector[1]\n",
    "    if diff0<0 and diff1<0:\n",
    "        continue\n",
    "    elif diff0>=diff1:\n",
    "        product1.append(1)\n",
    "    else:\n",
    "        product2.append(1)\n",
    "    totalproduct=product1+product2\n",
    "print(totalproduct)"
   ]
  },
  {
   "cell_type": "code",
   "execution_count": 442,
   "id": "cdd56250-573f-48d0-850f-7186debcb801",
   "metadata": {
    "tags": []
   },
   "outputs": [
    {
     "name": "stdout",
     "output_type": "stream",
     "text": [
      "[1]\n"
     ]
    }
   ],
   "source": [
    "values=[[25,15],[18,18],[30,20],[30,30]]\n",
    "priceVector=[25,20]\n",
    "product1=[]\n",
    "product2=[]\n",
    "for i in range(len(values)):\n",
    "    product1=[]\n",
    "    product2=[]\n",
    "    diff0=values[i][0]-priceVector[0]\n",
    "    diff1=values[i][1]-priceVector[1]\n",
    "    if diff0<0 and diff1<0:\n",
    "        continue\n",
    "    elif diff0>=diff1:\n",
    "        product1.append(1)\n",
    "    else:\n",
    "        product2.append(1)\n",
    "    totalproduct=product1+product2\n",
    "print(totalproduct)"
   ]
  },
  {
   "cell_type": "code",
   "execution_count": 443,
   "id": "52face6c-003e-48ea-8c4f-efd148806935",
   "metadata": {
    "tags": []
   },
   "outputs": [
    {
     "name": "stdout",
     "output_type": "stream",
     "text": [
      "[2, 1]\n"
     ]
    }
   ],
   "source": [
    "values=[[25,15],[18,18],[30,20],[30,30]]\n",
    "priceVector=[25,20]\n",
    "product1=[]\n",
    "product2=[]\n",
    "for i in range(len(values)):\n",
    "        diff0=values[i][0]-priceVector[0]\n",
    "        diff1=values[i][1]-priceVector[1]\n",
    "        if diff0>=diff1 and diff0>=0:\n",
    "            product1.append(1)\n",
    "        elif diff1>=diff0 and diff1>=0:\n",
    "            product2.append(1)\n",
    "        elif diff0<0 and diff1<0:\n",
    "            continue\n",
    "print([sum(product1),sum(product2)])"
   ]
  },
  {
   "cell_type": "code",
   "execution_count": 444,
   "id": "0acd1be2-add3-4985-a5c9-5acbcf0928b8",
   "metadata": {
    "tags": []
   },
   "outputs": [],
   "source": [
    "# Corrected code\n",
    "def demand(priceVector,values):\n",
    "    product1=[]\n",
    "    product2=[]\n",
    "    for i in range(len(values)):\n",
    "        diff0=values[i][0]-priceVector[0]\n",
    "        diff1=values[i][1]-priceVector[1]\n",
    "        if diff0>=diff1 and diff0>=0:\n",
    "            product1.append(1)\n",
    "        elif diff1>=diff0 and diff1>=0:\n",
    "            product2.append(1)\n",
    "        elif diff0<0 and diff1<0:\n",
    "            continue\n",
    "    return([sum(product1),sum(product2)])"
   ]
  },
  {
   "cell_type": "code",
   "execution_count": 445,
   "id": "f94132a9-a0f0-4818-b853-bd5dd4251d02",
   "metadata": {
    "tags": []
   },
   "outputs": [
    {
     "data": {
      "text/plain": [
       "[2, 1]"
      ]
     },
     "execution_count": 445,
     "metadata": {},
     "output_type": "execute_result"
    }
   ],
   "source": [
    "# Test code 1\n",
    "values=[[25,15],[18,18],[30,20],[30,30]]\n",
    "priceVector=[25,20]\n",
    "demand(priceVector,values)"
   ]
  },
  {
   "cell_type": "code",
   "execution_count": 446,
   "id": "f0fe5ae9-9055-416a-84aa-088f9fc7d86d",
   "metadata": {
    "tags": []
   },
   "outputs": [
    {
     "data": {
      "text/plain": [
       "[3, 2]"
      ]
     },
     "execution_count": 446,
     "metadata": {},
     "output_type": "execute_result"
    }
   ],
   "source": [
    "# Test code 2\n",
    "values=[[25,15],[18,18],[25,20],[25,35],[18,20],[26,21]]\n",
    "priceVector=[25,20]\n",
    "demand(priceVector,values)"
   ]
  },
  {
   "cell_type": "markdown",
   "id": "3e3b1b4e-281f-402d-a335-162d9b6dd2b9",
   "metadata": {},
   "source": [
    "## Exercise 4.2: Grocery Store Restocking\n",
    "\n",
    "This question asks you to make a tool that helps a grocery store to analyze their policy for restocking shelves for a certain non-perishable item. Write a function called `analyzeScenario` with three input parameters:\n",
    "\n",
    "- `demandList`: a non-empty list of non-negative integers representing the forecasted daily demand for the item, corresponding to a period of consecutive days. The number of days is `len(demandList)`.\n",
    "- `stockingLevel`: a positive integer representing the maximum number of units that the store will stock on its shelves at any time.\n",
    "- `minimumLevel`: a non-negative integer representing the minimum number of units on the shelves that the store can tolerate without restocking. \n",
    "\n",
    "Assume that the store makes its stocking decision at the end of each day after closing. If the leftover inventory on the shelf at the end of a day is strictly below the \"minimumLevel\", then the store will restock to a full shelf, and the inventory at the beginning of the next day will be equal to \"stockingLevel\". If the leftover inventory at the end of a day is greater than or equal to \"minimumLevel\", then the store will not add anything to the shelf, and the inventory at the beginning of the next day will be the same as the leftover inventory. On the first day, the shelf is full, so the inventory level is equal to \"stockingLevel\".\n",
    "\n",
    "Your function should print (not return) the number of times it would decide to restock during the period represented by the input data. \n",
    "\n",
    "For example, the sample run\n",
    "```python\n",
    "analyzeScenario([3,4,2,5,15,3,9,3,1,3,9],10,3)\n",
    "```\n",
    "should result in exactly the following message printed to screen.\n",
    "```\n",
    "The store needs to restock 4 times.\n",
    "```\n",
    "The following table illustrates the inventory dynamics.\n",
    "\n",
    "| Beginning Inventory | Demand |   Leftover Inventory | Restock? |\n",
    "|--|--|--|--|\n",
    "|10|3 |7 |No |\n",
    "|7 |4 |3 |No |\n",
    "|3 |2 |1 | Yes |\n",
    "|10|5 |5 | No |\n",
    "| 5|15|0 |Yes |\n",
    "|10|3|7 | No|\n",
    "|7|9 | 0 | Yes |\n",
    "|10|3| 7 | No |\n",
    "|7 |1 | 6 | No |\n",
    "|6 | 3|  3 | No |\n",
    "|3 | 9 |  0 | Yes |\n",
    "|**# of times to restock:**|` `|` `| **4**|\n",
    "\n",
    "Note that if demand is greater than the beginning inventory, the leftover inventory is zero. Otherwise, the leftover inventory is equal to the beginning inventory minus the demand. The final answer (the number of times to restock) is equal to the number of Yes's in the last column of the table.\n",
    "\n",
    "**Sample run 2:**\n",
    "```python\n",
    "analyzeScenario([3,4,2,5,15,3,9,3,1,3,9],9,3)\n",
    "```\n",
    "\n",
    "The printed message should be exactly as below:\n",
    "```\n",
    "The store needs to restock 6 times.\n",
    "\n",
    "```\n",
    "\n",
    "**Sample run 3:**\n",
    "```python\n",
    "analyzeScenario([8,3,2,6,9,3,5,2,9,10],9,5)\n",
    "```\n",
    "\n",
    "The printed message should be exactly as below:\n",
    "\n",
    "```\n",
    "The store needs to restock 7 times.\n",
    "\n",
    "```\n",
    "\n",
    "**Solve this problem by applying the four steps of algorithmic thinking.**"
   ]
  },
  {
   "cell_type": "markdown",
   "id": "4877534b-3cef-40c4-ac11-39b65e9a70dd",
   "metadata": {},
   "source": [
    "**Step 1. Understand** (Write your summary of the task in this cell:)\n",
    "\n",
    "\n"
   ]
  },
  {
   "cell_type": "markdown",
   "id": "241d3220-c85e-43db-9de6-b7093c2406f5",
   "metadata": {},
   "source": [
    "This function calculates the number of times restocking is needed depending on leftover inventory"
   ]
  },
  {
   "cell_type": "markdown",
   "id": "012d1ec5-ddb7-4e38-9696-5a0d0b3787c4",
   "metadata": {},
   "source": [
    "**Step 2. Decompose** (Write your instructions in this Markdown cell)\n",
    "\n",
    "\n",
    "\n"
   ]
  },
  {
   "cell_type": "markdown",
   "id": "0128b4a9-31b9-4541-af1f-da05e0bbad55",
   "metadata": {},
   "source": [
    "1. Beginning inventory - demand = remaining inventory\n",
    "2. if remaining inventory >= minimum level then dont restock and the next beginning inventory is today's remaining inventory\n",
    "3. if remaining inventory < minimum level then restock and the next beginning inventory is the maximum level\n",
    "4. do this for every integer in demand"
   ]
  },
  {
   "cell_type": "markdown",
   "id": "8a500fad-a93e-41c2-8381-de84f40e1a5f",
   "metadata": {},
   "source": [
    "**Step 3. Analyze** (Write code fragments in separate code cells to implement the trickiest steps)"
   ]
  },
  {
   "cell_type": "code",
   "execution_count": 447,
   "id": "f6760b07-5632-44fb-a51b-e499ccab8238",
   "metadata": {
    "tags": []
   },
   "outputs": [
    {
     "name": "stdout",
     "output_type": "stream",
     "text": [
      "5\n",
      "-3\n",
      "-9\n",
      "-13\n",
      "-17\n",
      "-21\n",
      "-29\n",
      "-30\n",
      "-33\n"
     ]
    }
   ],
   "source": [
    "demand = [3,4,2,5,15,3,9,3,1,3,9]\n",
    "maxi = 10\n",
    "mini = 3\n",
    "restock = 0\n",
    "x = maxi\n",
    "for i in demandList:\n",
    "    x -= i\n",
    "    print(x)"
   ]
  },
  {
   "cell_type": "code",
   "execution_count": 448,
   "id": "bc41f163-e04e-4a32-9f03-a3f3bda52397",
   "metadata": {
    "tags": []
   },
   "outputs": [
    {
     "name": "stdout",
     "output_type": "stream",
     "text": [
      "1\n",
      "-4\n",
      "-19\n",
      "-22\n",
      "-31\n",
      "-34\n",
      "-35\n",
      "-38\n",
      "-47\n"
     ]
    }
   ],
   "source": [
    "demand = [3,4,2,5,15,3,9,3,1,3,9]\n",
    "maxi = 10\n",
    "mini = 3\n",
    "restock = 0\n",
    "x = maxi\n",
    "for i in demand:\n",
    "    maxi -= i\n",
    "    if maxi>=mini:\n",
    "        continue\n",
    "    print(maxi)"
   ]
  },
  {
   "cell_type": "code",
   "execution_count": 449,
   "id": "3c02fe5d-5ad6-480d-b5af-971f9cb559e2",
   "metadata": {
    "tags": []
   },
   "outputs": [
    {
     "name": "stdout",
     "output_type": "stream",
     "text": [
      "5\n",
      "-3\n",
      "10\n",
      "4\n",
      "0\n",
      "10\n",
      "6\n",
      "2\n",
      "10\n",
      "2\n",
      "10\n",
      "9\n",
      "6\n"
     ]
    }
   ],
   "source": [
    "demand = [3,4,2,5,15,3,9,3,1,3,9]\n",
    "maxi = 10\n",
    "mini = 3\n",
    "restock = 0\n",
    "x = maxi\n",
    "for i in demandList:\n",
    "    x -= i\n",
    "    print(x)\n",
    "    if x>=mini:\n",
    "        continue\n",
    "        print(x)\n",
    "    else:\n",
    "        x = maxi\n",
    "        restock +=1\n",
    "        print(x)"
   ]
  },
  {
   "cell_type": "markdown",
   "id": "544fefdc-c7e6-4f57-add1-95d75b23877e",
   "metadata": {},
   "source": [
    "**Step 4. Synthesize** (Combine your code fragments from Step 3, but do so in an incremental fashion and print intermediate results)"
   ]
  },
  {
   "cell_type": "code",
   "execution_count": 450,
   "id": "1e3c7940-e1c7-4155-810a-b6bb6dcdb559",
   "metadata": {
    "tags": []
   },
   "outputs": [
    {
     "name": "stdout",
     "output_type": "stream",
     "text": [
      "5\n",
      "-3\n",
      "10\n",
      "1\n",
      "4\n",
      "0\n",
      "10\n",
      "2\n",
      "6\n",
      "2\n",
      "10\n",
      "3\n",
      "2\n",
      "10\n",
      "4\n",
      "9\n",
      "6\n",
      "The store needs to restock 4 times.\n"
     ]
    }
   ],
   "source": [
    "# Code with intermediate printing\n",
    "demand = [3,4,2,5,15,3,9,3,1,3,9]\n",
    "maxi = 10\n",
    "mini = 3\n",
    "restock = 0\n",
    "x = maxi\n",
    "for i in demandList:\n",
    "    x -= i\n",
    "    print(x)\n",
    "    if x>=mini:\n",
    "        continue\n",
    "        print(x)\n",
    "    else:\n",
    "        x = maxi\n",
    "        restock +=1\n",
    "        print(x)\n",
    "        print(restock)\n",
    "print(f\"The store needs to restock {restock} times.\")"
   ]
  },
  {
   "cell_type": "code",
   "execution_count": 451,
   "id": "68d1aaed-0f3e-42cd-9d46-c9baa91c6808",
   "metadata": {
    "tags": []
   },
   "outputs": [],
   "source": [
    "# Final code\n",
    "def analyzeScenario(demandList,stockingLevel, minimumLevel):\n",
    "    restock = 0\n",
    "    x = stockingLevel\n",
    "    for i in demandList:\n",
    "        x -= i\n",
    "        if x>=minimumLevel:\n",
    "            continue\n",
    "        else:\n",
    "            x = stockingLevel\n",
    "            restock +=1\n",
    "    return(f\"The store needs to restock {restock} times.\")"
   ]
  },
  {
   "cell_type": "code",
   "execution_count": 452,
   "id": "8cec1fcf-8db2-4988-8f68-29e26a35ece1",
   "metadata": {
    "tags": []
   },
   "outputs": [
    {
     "data": {
      "text/plain": [
       "'The store needs to restock 4 times.'"
      ]
     },
     "execution_count": 452,
     "metadata": {},
     "output_type": "execute_result"
    }
   ],
   "source": [
    "# Sample run 1\n",
    "analyzeScenario([3,4,2,5,15,3,9,3,1,3,9],10,3)"
   ]
  },
  {
   "cell_type": "code",
   "execution_count": 453,
   "id": "eb20686e-5fe8-48c9-9db7-eceb91aa0581",
   "metadata": {
    "tags": []
   },
   "outputs": [
    {
     "data": {
      "text/plain": [
       "'The store needs to restock 6 times.'"
      ]
     },
     "execution_count": 453,
     "metadata": {},
     "output_type": "execute_result"
    }
   ],
   "source": [
    "# Sample run 2\n",
    "analyzeScenario([3,4,2,5,15,3,9,3,1,3,9],9,3)"
   ]
  },
  {
   "cell_type": "code",
   "execution_count": 454,
   "id": "7ee03d4c-a210-4ee9-8da9-c804d21d0daf",
   "metadata": {
    "tags": []
   },
   "outputs": [
    {
     "data": {
      "text/plain": [
       "'The store needs to restock 7 times.'"
      ]
     },
     "execution_count": 454,
     "metadata": {},
     "output_type": "execute_result"
    }
   ],
   "source": [
    "# Sample run 3\n",
    "analyzeScenario([8,3,2,6,9,3,5,2,9,10],9,5)"
   ]
  },
  {
   "cell_type": "markdown",
   "id": "8ecfee96-90d7-49d3-a2de-e143428b0e1d",
   "metadata": {},
   "source": [
    "## Exercise 4.3: Demand Estimation with $n$ Substitutable Products\n",
    "\n",
    "This exercise generalizes Exercise 3.3 to $n$ products, where $n$ is any positive integer.\n",
    "\n",
    "Write a function called `demand` with two input arguments:\n",
    "\n",
    "- `prices`: a list of $n$ prices, one for each product. \n",
    "- `values`: a list in which each element represents a customer's valuations for the $n$ products. The valuations is a list of length $n$, which corresponds to the customer's willingness to pay for each of the $n$ products.\n",
    "\n",
    "The function should return a list of length $n$ representing the number of each product sold. You should assume that each customer:\n",
    "\n",
    "- Does not purchase anything if his/her valuation for each product is strictly less than its price.\n",
    "- Otherwise, purchase the product in which the difference between his/her valuation and the price is the largest. When there is a tie, the customer will purchase the product with the smaller index. \n",
    "\n",
    "For example, if `prices=[10,8,12]`, then\n",
    "\n",
    "- A customer with valuations `[9,7,11]` purchases nothing.\n",
    "- A customer with valuations `[10,8,12]` purchases product 1.\n",
    "- A customer with valuations `[9,8,12]` purchases product 2.\n",
    "- A customer with valuations `[9,8,13]` purchases product 3.\n",
    "\n",
    "**Sample run 1:**\n",
    "\n",
    "```python\n",
    "prices=[10,8,12]\n",
    "values=[[9,7,11],[10,8,12],[9,8,12],[9,8,13]]\n",
    "ans=demand(prices,values)\n",
    "for i in range(len(prices)):\n",
    "    print(f'Demand for product {i+1}:',ans[i])\n",
    "```\n",
    "\n",
    "**Correct output:**\n",
    "\n",
    "```\n",
    "Demand for product 1: 1\n",
    "Demand for product 2: 1\n",
    "Demand for product 3: 1\n",
    "```\n",
    "\n",
    "**Sample run 2:**\n",
    "\n",
    "```python\n",
    "prices=[20,15,30]\n",
    "values=[[30,30,20],[40,10,15],[18,13,29],[40,30,50],[10,30,50],[10,10,10],[20,15,30]]\n",
    "ans=demand(prices,values)\n",
    "for i in range(len(prices)):\n",
    "    print(f'Demand for product {i+1}:',ans[i])\n",
    "   ```\n",
    "   \n",
    "**Correct output:**\n",
    "\n",
    "```\n",
    "Demand for product 1: 3\n",
    "Demand for product 2: 1\n",
    "Demand for product 3: 1\n",
    "```\n",
    "\n",
    "**Solve this problem by applying the four steps of algorithmic thinking.**"
   ]
  },
  {
   "cell_type": "markdown",
   "id": "e64ffbfc-9cb7-4901-b0d5-52f4480bceb8",
   "metadata": {},
   "source": [
    "**Step 1. Understand** (Write your summary of the task in this cell:)\n",
    "\n",
    "\n",
    "\n"
   ]
  },
  {
   "cell_type": "markdown",
   "id": "ab347dd9-96e1-4001-890f-d21d99fe2449",
   "metadata": {},
   "source": [
    "**Step 2. Decompose** (Write your instructions in this Markdown cell)\n",
    "\n",
    "\n",
    "\n",
    "\n",
    "\n"
   ]
  },
  {
   "cell_type": "markdown",
   "id": "91b5c999-ad42-4faf-a00e-1b39d9cb1b26",
   "metadata": {},
   "source": [
    "**Step 3. Analyze** (Write code fragments in separate code cells to implement the trickiest steps)"
   ]
  },
  {
   "cell_type": "code",
   "execution_count": 455,
   "id": "b599b254-899b-4c3e-a258-8b032751483f",
   "metadata": {
    "tags": []
   },
   "outputs": [],
   "source": [
    "prices=[10,8,12]\n",
    "values=[[9,7,11],[10,8,12],[9,8,12],[9,8,13]]\n",
    "import numpy as np\n",
    "x = np.array(values)\n",
    "y = np.array(prices)\n",
    "z = x-y\n",
    "a = [i for i in z if i.max()>=0]\n",
    "l = []\n",
    "ans = []"
   ]
  },
  {
   "cell_type": "code",
   "execution_count": 456,
   "id": "8cd82257-9ef0-40c5-a436-c2ea9b48d1c2",
   "metadata": {
    "tags": []
   },
   "outputs": [
    {
     "name": "stdout",
     "output_type": "stream",
     "text": [
      "[0 0 0]\n",
      "[-1  0  0]\n",
      "[-1  0  1]\n",
      "[-1, 0, 1]\n",
      "[0, 1, 2]\n"
     ]
    }
   ],
   "source": [
    "for i in a:\n",
    "    t = i.tolist()\n",
    "    l.append(t.index(max(t)))\n",
    "    print(i)\n",
    "print(t)\n",
    "print(l)"
   ]
  },
  {
   "cell_type": "code",
   "execution_count": 457,
   "id": "52d7fa3d-bead-413c-8a2c-5e473776d5cb",
   "metadata": {
    "tags": []
   },
   "outputs": [
    {
     "name": "stdout",
     "output_type": "stream",
     "text": [
      "[1, 1, 1]\n"
     ]
    }
   ],
   "source": [
    "for i in range(len(prices)):\n",
    "    ans.append(l.count(i))\n",
    "print(ans)"
   ]
  },
  {
   "cell_type": "markdown",
   "id": "c5a35b26-60a5-4ec0-884d-d4eda05627f8",
   "metadata": {},
   "source": [
    "**Step 4. Synthesize** (Combine your code fragments from Step 3, but do so in an incremental fashion and print intermediate results)"
   ]
  },
  {
   "cell_type": "code",
   "execution_count": 458,
   "id": "e42bf003-fe73-4a63-a5af-e84100ad72b2",
   "metadata": {
    "tags": []
   },
   "outputs": [
    {
     "data": {
      "text/plain": [
       "[1, 1, 1]"
      ]
     },
     "execution_count": 458,
     "metadata": {},
     "output_type": "execute_result"
    }
   ],
   "source": [
    "# Version for debugging: with intermediate printing and no function encapsulation\n",
    "prices=[10,8,12]\n",
    "values=[[9,7,11],[10,8,12],[9,8,12],[9,8,13]]\n",
    "import numpy as np\n",
    "x = np.array(values)\n",
    "y = np.array(prices)\n",
    "z = x-y\n",
    "a = [i for i in z if i.max()>=0]\n",
    "l = []\n",
    "ans = []\n",
    "for i in a:\n",
    "    t = i.tolist()\n",
    "    l.append(t.index(max(t)))\n",
    "for i in range(len(prices)):\n",
    "    ans.append(l.count(i))\n",
    "ans"
   ]
  },
  {
   "cell_type": "code",
   "execution_count": 459,
   "id": "dd7bf2f7-d70c-4a06-873f-ff840607f006",
   "metadata": {
    "tags": []
   },
   "outputs": [],
   "source": [
    "# Final code: removing intermediate printing and encapuslating in a function\n",
    "def demand(prices,values):\n",
    "    import numpy as np\n",
    "    x = np.array(values)\n",
    "    y = np.array(prices)\n",
    "    z = x-y\n",
    "    a = [i for i in z if i.max()>=0]\n",
    "    l = []\n",
    "    ans = []\n",
    "    for i in a:\n",
    "        t = i.tolist()\n",
    "        l.append(t.index(max(t)))\n",
    "    for i in range(len(prices)):\n",
    "        ans.append(l.count(i))\n",
    "    return(ans)"
   ]
  },
  {
   "cell_type": "code",
   "execution_count": 460,
   "id": "af1ed63c-7fd3-4d8f-b719-48ecf1b63b35",
   "metadata": {
    "tags": []
   },
   "outputs": [
    {
     "name": "stdout",
     "output_type": "stream",
     "text": [
      "Demand for product 1 : 1\n",
      "Demand for product 2 : 1\n",
      "Demand for product 3 : 1\n"
     ]
    }
   ],
   "source": [
    "# Sample run 1\n",
    "prices=[10,8,12]\n",
    "values=[[9,7,11],[10,8,12],[9,8,12],[9,8,13]]\n",
    "ans=demand(prices,values)\n",
    "for i in range(len(prices)):\n",
    "    print('Demand for product',i+1,':',ans[i])"
   ]
  },
  {
   "cell_type": "code",
   "execution_count": 461,
   "id": "d53cb89d-357e-4657-930f-1f58b65338a6",
   "metadata": {
    "tags": []
   },
   "outputs": [
    {
     "name": "stdout",
     "output_type": "stream",
     "text": [
      "Demand for product 1 : 3\n",
      "Demand for product 2 : 1\n",
      "Demand for product 3 : 1\n"
     ]
    }
   ],
   "source": [
    "# Sample run 2\n",
    "prices=[20,15,30]\n",
    "values=[[30,30,20],[40,10,15],[18,13,29],[40,30,50],[10,30,50],[10,10,10],[20,15,30]]\n",
    "ans=demand(prices,values)\n",
    "for i in range(len(prices)):\n",
    "    print('Demand for product',i+1,':',ans[i])"
   ]
  },
  {
   "cell_type": "code",
   "execution_count": 462,
   "id": "2a173663-8bb6-4e66-ab32-9fabe5a6eab7",
   "metadata": {
    "tags": []
   },
   "outputs": [
    {
     "name": "stdout",
     "output_type": "stream",
     "text": [
      "Demand for product 1 : 1\n",
      "Demand for product 2 : 1\n",
      "Demand for product 3 : 0\n",
      "Demand for product 4 : 2\n"
     ]
    }
   ],
   "source": [
    "# Sample run 3\n",
    "prices=[10,8,12,8]\n",
    "values=[[9,7,11,12],[10,8,12,8],[9,8,12,5],[9,8,13,12]]\n",
    "ans=demand(prices,values)\n",
    "for i in range(len(prices)):\n",
    "    print('Demand for product',i+1,':',ans[i])"
   ]
  },
  {
   "cell_type": "markdown",
   "id": "8e41b36b-0c9e-4000-85a6-5f39767afe81",
   "metadata": {},
   "source": [
    "## Exercise 4.4: Simulating Availabilities of Hospital Beds\n",
    "\n",
    "One challenge in health care operations is to forecast the number of hospital beds that are available at a given time, since patients admitted in the past may stay for several days and the number of beds are limited. If no more beds are available, then incoming patients may need to be turned away.\n",
    "\n",
    "Write a function called `admissionSimulation` with three input arguments:\n",
    "\n",
    "- `demandList`: a list of positive integers representing the number of incoming patients desiring a hospital bed in each day. (The first number corresponds to day 0, the second number to day 1, and so on.)\n",
    "- `beds`: a positive integer representing the total number of hospital beds available.\n",
    "- `stay`: a positive integer representing the number of days each admitted patient will stay. If `stay=1`, then every admitted patient leaves before any incoming patients arrive the next day. If `stay=2`, then each patient admitted on day $t$ will occupy a bed also for day $t+1$, and leave before incoming patients arrive on day $t+2$.\n",
    "\n",
    "The function should return a list `admissionRecord`, corresponding to the number of incoming patients admitted on each day. \n",
    "\n",
    "**Sample run 1:**\n",
    "\n",
    "```python\n",
    "demandList=[1,2,1,0,2,3]\n",
    "beds=2\n",
    "stay=2\n",
    "admissionRecord=admissionSimulation(demandList,beds,stay)\n",
    "print(f'Day\\tDemand\\tAdmitted')\n",
    "for i in range(len(demandList)):\n",
    "    print(f'{i}\\t{demandList[i]}\\t{admissionRecord[i]}')\n",
    "```\n",
    "\n",
    "**Correct output:**\n",
    "\n",
    "```\n",
    "Day\t  Demand   Admitted\n",
    "0\t    1\t    1\n",
    "1\t    2\t    1\n",
    "2\t    1\t    1\n",
    "3\t    0\t    0\n",
    "4\t    2\t    2\n",
    "5\t    3\t    0\n",
    "```\n",
    "\n",
    "**Sample run 2:**\n",
    "\n",
    "```python\n",
    "demandList=[5,8,6,8,4,4,8,6,1]\n",
    "beds=7\n",
    "stay=3\n",
    "admissionRecord=admissionSimulation(demandList,beds,stay)\n",
    "print(f'Day\\tDemand\\tAdmitted')\n",
    "for i in range(len(demandList)):\n",
    "    print(f'{i}\\t{demandList[i]}\\t{admissionRecord[i]}')\n",
    "```\n",
    "\n",
    "**Correct output:**\n",
    "\n",
    "```\n",
    "Day\t  Demand   Admitted\n",
    "0\t    5\t    5\n",
    "1\t    8\t    2\n",
    "2\t    6\t    0\n",
    "3\t    8\t    5\n",
    "4\t    4\t    2\n",
    "5\t    4\t    0\n",
    "6\t    8\t    5\n",
    "7\t    6\t    2\n",
    "8\t    1\t    0\n",
    "```\n",
    "\n",
    "**Sample run 3:**\n",
    "\n",
    "```python\n",
    "# Sample run 3\n",
    "demandList=[5,8,6,4,4,4,8,1,3]\n",
    "beds=7\n",
    "stay=3\n",
    "admissionRecord=admissionSimulation(demandList,beds,stay)\n",
    "print(f'Day\\tDemand\\tAdmitted')\n",
    "for i in range(len(demandList)):\n",
    "    print(f'{i}\\t{demandList[i]}\\t{admissionRecord[i]}')\n",
    "```\n",
    "\n",
    "**Correct output:**\n",
    "\n",
    "```\n",
    "Day      Demand   Admitted\n",
    "0\t    5    \t5\n",
    "1\t    8\t    2\n",
    "2\t    6\t    0\n",
    "3\t    4\t    4\n",
    "4\t    4\t    3\n",
    "5\t    4\t    0\n",
    "6\t    8\t    4\n",
    "7\t    1\t    1\n",
    "8\t    3\t    2\n",
    "```\n",
    "\n",
    "**Hint:** In Step 2, you want to create a table. The above tables are insufficient to carry through the logic, as you also need to keep track of the number of discharges at the beginning of each day, as well as the number of available beds before new patients arrive.\n",
    "\n",
    "**Solve this problem by applying the four steps of algorithmic thinking.**"
   ]
  },
  {
   "cell_type": "markdown",
   "id": "64ca91eb-ecbe-4f29-8fb3-70c596fec0af",
   "metadata": {},
   "source": [
    "**Step 1. Understand** (Write your summary of the task in this cell:)\n",
    "\n",
    "\n",
    "\n"
   ]
  },
  {
   "cell_type": "markdown",
   "id": "c6484ae0-5805-4679-8733-ec6208b15e69",
   "metadata": {},
   "source": [
    "This function finds the number of people that the hospital can admit given the current amount of bed spaces"
   ]
  },
  {
   "cell_type": "markdown",
   "id": "852b58ed-d648-4f46-b6a5-fc5703d90979",
   "metadata": {},
   "source": [
    "**Step 2. Decompose** (Write your instructions in this Markdown cell)\n",
    "\n",
    "\n",
    "\n",
    "\n",
    "\n"
   ]
  },
  {
   "cell_type": "markdown",
   "id": "f934f791-f3a6-47aa-acdc-73637c97a5c8",
   "metadata": {},
   "source": [
    "1. calculate the beginning amount of beds available which is the amount of bed in the first day and the sum of end and exit thereafter.\n",
    "2. find the amount of people I should admit which is the smaller number of demand and beginning\n",
    "3. find the ending amount of bed remaining which is begnning-admitted\n",
    "4. find the amount of people who left which is equal to the 1 day prior's admission"
   ]
  },
  {
   "cell_type": "markdown",
   "id": "bc43c516-1816-46c8-9eae-69ed465e6907",
   "metadata": {},
   "source": [
    "**Step 3. Analyze** (Write code fragments in separate code cells to implement the trickiest steps)"
   ]
  },
  {
   "cell_type": "code",
   "execution_count": 463,
   "id": "13cf1705-982f-4daa-a007-8fd93709a276",
   "metadata": {
    "tags": []
   },
   "outputs": [],
   "source": [
    "demandList=[1,2,1,0,2,3]\n",
    "beds=2\n",
    "stay=2\n",
    "beds = beds\n",
    "stay = stay-1\n",
    "beg = [beds]\n",
    "admitted = [min(demandList[0],beg[0])]\n",
    "end = [beg[0]-admitted[0]]\n",
    "exit = [0]"
   ]
  },
  {
   "cell_type": "code",
   "execution_count": 464,
   "id": "348197a2-18b1-4a9d-b4c7-1b894ff48c91",
   "metadata": {
    "tags": []
   },
   "outputs": [
    {
     "name": "stdout",
     "output_type": "stream",
     "text": [
      "[0]\n",
      "[2]\n",
      "[1]\n",
      "[1]\n"
     ]
    }
   ],
   "source": [
    "for i in range(1,len(demandList)):\n",
    "    if i < stay:\n",
    "        exit.append(0)\n",
    "        beg.append(exit[i-1]+end[i-1])\n",
    "        admitted.append(min(demandList[i],beg[i]))\n",
    "        end.append(beg[i]-admitted[i])\n",
    "print(exit)\n",
    "print(beg)\n",
    "print(admitted)\n",
    "print(end)"
   ]
  },
  {
   "cell_type": "code",
   "execution_count": 465,
   "id": "d2686225-015a-4c10-ad2d-5564be302d23",
   "metadata": {
    "tags": []
   },
   "outputs": [
    {
     "name": "stdout",
     "output_type": "stream",
     "text": [
      "[0, 1, 1, 1, 0, 2]\n",
      "[2, 1, 1, 1, 2, 0]\n",
      "[1, 1, 1, 0, 2, 0]\n",
      "[1, 0, 0, 1, 0, 0]\n"
     ]
    }
   ],
   "source": [
    "demandList=[1,2,1,0,2,3]\n",
    "beds=2\n",
    "stay=2\n",
    "beds = beds\n",
    "stay = stay-1\n",
    "beg = [beds]\n",
    "admitted = [min(demandList[0],beg[0])]\n",
    "end = [beg[0]-admitted[0]]\n",
    "exit = [0]\n",
    "for i in range(1,len(demandList)):\n",
    "    if i < stay:\n",
    "        exit.append(0)\n",
    "        beg.append(exit[i-1]+end[i-1])\n",
    "        admitted.append(min(demandList[i],beg[i]))\n",
    "        end.append(beg[i]-admitted[i])\n",
    "    else:\n",
    "        exit.append(admitted[i-stay])\n",
    "        beg.append(exit[i-1]+end[i-1])\n",
    "        admitted.append(min(demandList[i],beg[i]))\n",
    "        end.append(beg[i]-admitted[i])\n",
    "print(exit)\n",
    "print(beg)\n",
    "print(admitted)\n",
    "print(end)"
   ]
  },
  {
   "cell_type": "markdown",
   "id": "602773ff-018a-4f37-aa00-67cf07fccdc5",
   "metadata": {},
   "source": [
    "**Step 4. Synthesize** (Combine your code fragments from Step 3, but do so in an incremental fashion and print intermediate results)"
   ]
  },
  {
   "cell_type": "code",
   "execution_count": 466,
   "id": "3123b378-f68b-4dcd-863d-cc469f9fca5f",
   "metadata": {
    "tags": []
   },
   "outputs": [
    {
     "name": "stdout",
     "output_type": "stream",
     "text": [
      "[0, 1, 1, 1, 0, 2]\n",
      "[2, 1, 1, 1, 2, 0]\n",
      "[1, 1, 1, 0, 2, 0]\n",
      "[1, 0, 0, 1, 0, 0]\n"
     ]
    }
   ],
   "source": [
    "# Version for debugging: with intermediate printing and no function encapsulation\n",
    "demandList=[1,2,1,0,2,3]\n",
    "beds=2\n",
    "stay=2\n",
    "beds = beds\n",
    "stay = stay-1\n",
    "beg = [beds]\n",
    "admitted = [min(demandList[0],beg[0])]\n",
    "end = [beg[0]-admitted[0]]\n",
    "exit = [0]\n",
    "for i in range(1,len(demandList)):\n",
    "    if i < stay:\n",
    "        exit.append(0)\n",
    "        beg.append(exit[i-1]+end[i-1])\n",
    "        admitted.append(min(demandList[i],beg[i]))\n",
    "        end.append(beg[i]-admitted[i])\n",
    "    else:\n",
    "        exit.append(admitted[i-stay])\n",
    "        beg.append(exit[i-1]+end[i-1])\n",
    "        admitted.append(min(demandList[i],beg[i]))\n",
    "        end.append(beg[i]-admitted[i])\n",
    "print(exit)\n",
    "print(beg)\n",
    "print(admitted)\n",
    "print(end)"
   ]
  },
  {
   "cell_type": "code",
   "execution_count": 467,
   "id": "f811511f-39e6-40e3-8b00-7c7db6ce5e66",
   "metadata": {
    "tags": []
   },
   "outputs": [],
   "source": [
    "# Final code: removing intermediate printing and encapuslating in a function\n",
    "def admissionSimulation(demandList,beds,stay):\n",
    "    beds = beds\n",
    "    stay = stay-1\n",
    "    beg = [beds]\n",
    "    admitted = [min(demandList[0],beg[0])]\n",
    "    end = [beg[0]-admitted[0]]\n",
    "    exit = [0]\n",
    "    \n",
    "    for i in range(1,len(demandList)):\n",
    "        if i < stay:\n",
    "            exit.append(0)\n",
    "            beg.append(exit[i-1]+end[i-1])\n",
    "            admitted.append(min(demandList[i],beg[i]))\n",
    "            end.append(beg[i]-admitted[i])\n",
    "        else:\n",
    "            exit.append(admitted[i-stay])\n",
    "            beg.append(exit[i-1]+end[i-1])\n",
    "            admitted.append(min(demandList[i],beg[i]))\n",
    "            end.append(beg[i]-admitted[i])\n",
    "    \n",
    "    return(admitted)"
   ]
  },
  {
   "cell_type": "code",
   "execution_count": 468,
   "id": "92d7f605-cb57-42cd-9e9d-7cd36f2d4832",
   "metadata": {
    "tags": []
   },
   "outputs": [
    {
     "name": "stdout",
     "output_type": "stream",
     "text": [
      "Day\tDemand\tAdmitted\n",
      "0\t1\t1\n",
      "1\t2\t1\n",
      "2\t1\t1\n",
      "3\t0\t0\n",
      "4\t2\t2\n",
      "5\t3\t0\n"
     ]
    }
   ],
   "source": [
    "# Sample run 1\n",
    "demandList=[1,2,1,0,2,3]\n",
    "beds=2\n",
    "stay=2\n",
    "admissionRecord=admissionSimulation(demandList,beds,stay)\n",
    "print(f'Day\\tDemand\\tAdmitted')\n",
    "for i in range(len(demandList)):\n",
    "    print(f'{i}\\t{demandList[i]}\\t{admissionRecord[i]}')"
   ]
  },
  {
   "cell_type": "code",
   "execution_count": 469,
   "id": "27a3aa8d-dfd6-47b4-85af-08f350547a55",
   "metadata": {
    "tags": []
   },
   "outputs": [
    {
     "name": "stdout",
     "output_type": "stream",
     "text": [
      "Day\tDemand\tAdmitted\n",
      "0\t5\t5\n",
      "1\t8\t2\n",
      "2\t6\t0\n",
      "3\t8\t5\n",
      "4\t4\t2\n",
      "5\t4\t0\n",
      "6\t8\t5\n",
      "7\t6\t2\n",
      "8\t1\t0\n"
     ]
    }
   ],
   "source": [
    "# Sample run 2\n",
    "demandList=[5,8,6,8,4,4,8,6,1]\n",
    "beds=7\n",
    "stay=3\n",
    "admissionRecord=admissionSimulation(demandList,beds,stay)\n",
    "print(f'Day\\tDemand\\tAdmitted')\n",
    "for i in range(len(demandList)):\n",
    "    print(f'{i}\\t{demandList[i]}\\t{admissionRecord[i]}')"
   ]
  },
  {
   "cell_type": "code",
   "execution_count": 470,
   "id": "7286c7eb-d36e-444f-a69a-dc074aaf9982",
   "metadata": {
    "tags": []
   },
   "outputs": [
    {
     "name": "stdout",
     "output_type": "stream",
     "text": [
      "Day\tDemand\tAdmitted\n",
      "0\t5\t5\n",
      "1\t8\t2\n",
      "2\t6\t0\n",
      "3\t4\t4\n",
      "4\t4\t3\n",
      "5\t4\t0\n",
      "6\t8\t4\n",
      "7\t1\t1\n",
      "8\t3\t2\n"
     ]
    }
   ],
   "source": [
    "# Sample run 3\n",
    "demandList=[5,8,6,4,4,4,8,1,3]\n",
    "beds=7\n",
    "stay=3\n",
    "admissionRecord=admissionSimulation(demandList,beds,stay)\n",
    "print(f'Day\\tDemand\\tAdmitted')\n",
    "for i in range(len(demandList)):\n",
    "    print(f'{i}\\t{demandList[i]}\\t{admissionRecord[i]}')"
   ]
  },
  {
   "cell_type": "markdown",
   "id": "37436e0b-ae3a-4cee-90e7-3de198b58616",
   "metadata": {},
   "source": [
    "## Exercise 4.5: Health Insurance Selection \n",
    "\n",
    "This question asks you to create a function to help individuals select the most cost effective health insurance given the terms of each plan and the individual's estimated health expenditures. \n",
    "\n",
    "**Write a function called \"bestPlan\" with two input arguments:**\n",
    "\n",
    "- `planInfo`: a dictionary in which the index is the name of a plan and the value is a list of 3 non-negative numbers. The first number is the annual premium of this plan, the second number is the annual deductible, and the third number is the proportion of expenditures (beyond the deductible) reimbursed by the plan.\n",
    "- `expenditure`: a non-negative number representing the individual's total health care spending without any health insurance.\n",
    "\n",
    "**The function should return (not print) the name of the best plan for the individual**, where best is defined as having the lowest total cost, as given by \n",
    "\n",
    "$$\\text{Total cost}=\\text{Premium} + \\text{Expenditure} - \\text{Reimbursements},$$\n",
    "\n",
    "where $\\text{Reimbursements}$ is equal to the proportion reimbursed multiplied by the reimbursable amount, and the reimbursable amount is equal to the amount by which the expenditures exceeds the deductible. \n",
    "\n",
    "For example, if $\\text{Premium}=2000$, $\\text{Proportion reimbursed}=0.9$, $\\text{Deductible}=200$, and $\\text{Expenditure}=100$, then the reimbursable amount is 0, and $\\text{Total cost}=2000+100-0=2100$. \n",
    "\n",
    "However, if $\\text{Expenditure}=10000$, then the reimbursable amount is $10000-200=9800$, and $\\text{Total cost}=2000+10000-(9800)\\times0.9=3180$. If there are multiple plans tied for the lowest total cost, then the function can return any of them. \n",
    "\n",
    "For example, if \n",
    "```python\n",
    "planInfo={'BlueCross PPO':[3000,0,0.95],'Anthem HMO':[1200,100,0.8],'Cigna EPO':[2400,1000,0.98],'No Insurance':[0,0,0]}\n",
    "```\n",
    "Then,\n",
    "\n",
    "- ```bestPlan(planInfo,1500)``` should return `'No Insurance'`.\n",
    "- ```bestPlan(planInfo,1700)``` should return `'Anthem HMO'`.\n",
    "- ```bestPlan(planInfo,11000)``` should return `'Anthem HMO'`.\n",
    "- ```bestPlan(planInfo,12000)``` should return `'BlueCross PPO'`.\n",
    "- ```bestPlan(planInfo,13000)``` should return `'Cigna EPO'`.\n",
    "- ```bestPlan(planInfo,100000)``` should return `'Cigna EPO'`.\n",
    "\n",
    "**Apply the four steps of algorithmic thinking to solve this problem.**"
   ]
  },
  {
   "cell_type": "markdown",
   "id": "2d55b80c-1d76-4ecc-82a2-c960ea4b77d6",
   "metadata": {},
   "source": [
    "**Step 1. Understand** (Write your summary in this Markdown cell)\n",
    "\n",
    "\n",
    "\n"
   ]
  },
  {
   "cell_type": "markdown",
   "id": "2c9e77de-8cfd-46fb-8316-7cf096136b5d",
   "metadata": {},
   "source": [
    "This function finds the cheapest health insurance option based on minimum cost"
   ]
  },
  {
   "cell_type": "markdown",
   "id": "f1c18ac8-75cd-41e9-a083-5b9fd2711a99",
   "metadata": {},
   "source": [
    "**Step 2. Decompose** (Write your instructions in this Markdown cell)\n",
    "\n",
    "\n",
    "\n",
    "\n",
    "\n"
   ]
  },
  {
   "cell_type": "markdown",
   "id": "36b8b049-ce5d-4c93-9719-5a9cf5846b55",
   "metadata": {},
   "source": [
    "1. calculate the total cost for each insurance by using the formula total_cost = premium+expenditures-reimbursments \n",
    "2. where expenditures is given and reimbursments = (expenditures-deductible)*proportion\n",
    "3. put insurance:total cost values into a new dictionary\n",
    "4. compare values and find the minimum cost"
   ]
  },
  {
   "cell_type": "markdown",
   "id": "0042b181-7288-4336-9317-6ca6c793eb84",
   "metadata": {},
   "source": [
    "**Step 3. Analyze** (Write code fragments in separate code cells to implement the trickiest steps)"
   ]
  },
  {
   "cell_type": "code",
   "execution_count": 471,
   "id": "7ae17cfb-65bd-47a8-b122-747985356ce5",
   "metadata": {
    "tags": []
   },
   "outputs": [],
   "source": [
    "total = {}\n",
    "\n",
    "expenditures = 1500\n",
    "\n",
    "total_cost = premium+expenditures-reimbursments\n",
    "\n",
    "\n",
    "total[key] = [total_cost]"
   ]
  },
  {
   "cell_type": "code",
   "execution_count": 472,
   "id": "66a621f5-7a82-4ec3-b744-3cc5a3410702",
   "metadata": {
    "tags": []
   },
   "outputs": [
    {
     "name": "stdout",
     "output_type": "stream",
     "text": [
      "[3000, 0, 0.95]\n",
      "[1200, 100, 0.8]\n",
      "[2400, 1000, 0.98]\n",
      "[0, 0, 0]\n"
     ]
    }
   ],
   "source": [
    "planInfo={'BlueCross PPO':[3000,0,0.95],'Anthem HMO':[1200,100,0.8],'Cigna EPO':[2400,1000,0.98],'No Insurance':[0,0,0]}\n",
    "\n",
    "for key,value in planInfo.items():\n",
    "    print(value)"
   ]
  },
  {
   "cell_type": "code",
   "execution_count": 473,
   "id": "f21e1561-961f-4dfc-86bb-5d30cfc1adf7",
   "metadata": {
    "tags": []
   },
   "outputs": [
    {
     "data": {
      "text/plain": [
       "1500"
      ]
     },
     "execution_count": 473,
     "metadata": {},
     "output_type": "execute_result"
    }
   ],
   "source": [
    "value[0]+expenditures-reimbursments"
   ]
  },
  {
   "cell_type": "code",
   "execution_count": 474,
   "id": "e4d1931a-cef7-4601-9ac1-2e16ea33eb90",
   "metadata": {
    "tags": []
   },
   "outputs": [],
   "source": [
    "reimbursments = (expenditures-value[1])*value[2]"
   ]
  },
  {
   "cell_type": "code",
   "execution_count": 475,
   "id": "bfe0248f-6809-4f4a-8e24-860f5732bd0e",
   "metadata": {
    "tags": []
   },
   "outputs": [],
   "source": [
    "premium = value[0]"
   ]
  },
  {
   "cell_type": "markdown",
   "id": "c3c9a917-6919-4f38-b81d-164d95e4010a",
   "metadata": {},
   "source": [
    "**Step 4. Synthesize**"
   ]
  },
  {
   "cell_type": "code",
   "execution_count": 476,
   "id": "d6ea4700-edf4-4e10-a3e7-c95ee4cdd887",
   "metadata": {
    "tags": []
   },
   "outputs": [
    {
     "name": "stdout",
     "output_type": "stream",
     "text": [
      "[3000, 0, 0.95]\n",
      "8000.0\n",
      "[1200, 100, 0.8]\n",
      "21280.0\n",
      "[2400, 1000, 0.98]\n",
      "5380.0\n",
      "[0, 0, 0]\n",
      "100000\n"
     ]
    },
    {
     "data": {
      "text/plain": [
       "'Cigna EPO'"
      ]
     },
     "execution_count": 476,
     "metadata": {},
     "output_type": "execute_result"
    }
   ],
   "source": [
    "# Version for debugging: with intermediate printing and no function encapsulation\n",
    "planInfo={'BlueCross PPO':[3000,0,0.95],'Anthem HMO':[1200,100,0.8],'Cigna EPO':[2400,1000,0.98],'No Insurance':[0,0,0]}\n",
    "\n",
    "total = {}\n",
    "\n",
    "expenditures = 100000\n",
    "\n",
    "for key,value in planInfo.items():\n",
    "    print(value)\n",
    "    premium = value[0]\n",
    "    expenditures = expenditures\n",
    "    reimbursments = (expenditures-value[1])*value[2]\n",
    "    total_cost = premium+expenditures-reimbursments\n",
    "    total[key] = abs(total_cost)\n",
    "    print(abs(total_cost))\n",
    "    \n",
    "total\n",
    "bestLevel = min(total, key = total.get)\n",
    "bestLevel"
   ]
  },
  {
   "cell_type": "code",
   "execution_count": 477,
   "id": "e6f247ba-9fc1-4ac9-bbad-079af6e051ac",
   "metadata": {
    "tags": []
   },
   "outputs": [],
   "source": [
    "# Final code\n",
    "def bestPlan(planInfo,expenditures):\n",
    "    total = {}\n",
    "    x = expenditures\n",
    "    for key,value in planInfo.items():\n",
    "        premium = value[0]\n",
    "        reimbursments = (x-value[1])*value[2]\n",
    "        total_cost = premium+x-reimbursments\n",
    "        total[key] = abs(total_cost)\n",
    "        bestLevel = min(total, key = total.get)\n",
    "    return(bestLevel)"
   ]
  },
  {
   "cell_type": "code",
   "execution_count": 478,
   "id": "db73b3c6-c347-429a-bb8d-c1b70ce0219c",
   "metadata": {
    "tags": []
   },
   "outputs": [
    {
     "data": {
      "text/plain": [
       "'No Insurance'"
      ]
     },
     "execution_count": 478,
     "metadata": {},
     "output_type": "execute_result"
    }
   ],
   "source": [
    "# Test code\n",
    "planInfo={'BlueCross PPO':[3000,0,0.95],'Anthem HMO':[1200,100,0.8],'Cigna EPO':[2400,1000,0.98],'No Insurance':[0,0,0]}\n",
    "bestPlan(planInfo,1500)"
   ]
  },
  {
   "cell_type": "code",
   "execution_count": 479,
   "id": "5336667f-9312-4ac1-af6e-02b030b7a27a",
   "metadata": {
    "tags": []
   },
   "outputs": [
    {
     "data": {
      "text/plain": [
       "'Anthem HMO'"
      ]
     },
     "execution_count": 479,
     "metadata": {},
     "output_type": "execute_result"
    }
   ],
   "source": [
    "bestPlan(planInfo,1700)"
   ]
  },
  {
   "cell_type": "code",
   "execution_count": 480,
   "id": "1eaf39ad-4fdf-4bc8-b537-eec65126d0e5",
   "metadata": {
    "tags": []
   },
   "outputs": [
    {
     "data": {
      "text/plain": [
       "'Anthem HMO'"
      ]
     },
     "execution_count": 480,
     "metadata": {},
     "output_type": "execute_result"
    }
   ],
   "source": [
    "bestPlan(planInfo,11000)"
   ]
  },
  {
   "cell_type": "code",
   "execution_count": 481,
   "id": "0d535426-315a-463b-a385-b00f599dc154",
   "metadata": {
    "tags": []
   },
   "outputs": [
    {
     "data": {
      "text/plain": [
       "'BlueCross PPO'"
      ]
     },
     "execution_count": 481,
     "metadata": {},
     "output_type": "execute_result"
    }
   ],
   "source": [
    "bestPlan(planInfo,12000)"
   ]
  },
  {
   "cell_type": "code",
   "execution_count": 482,
   "id": "a00282e0-db00-4fc7-bc7d-f848425d5306",
   "metadata": {
    "tags": []
   },
   "outputs": [
    {
     "data": {
      "text/plain": [
       "'Cigna EPO'"
      ]
     },
     "execution_count": 482,
     "metadata": {},
     "output_type": "execute_result"
    }
   ],
   "source": [
    "bestPlan(planInfo,13000)"
   ]
  },
  {
   "cell_type": "code",
   "execution_count": 483,
   "id": "bdba8154-84ef-4e4e-96ab-01af73f336f2",
   "metadata": {
    "tags": []
   },
   "outputs": [
    {
     "data": {
      "text/plain": [
       "'Cigna EPO'"
      ]
     },
     "execution_count": 483,
     "metadata": {},
     "output_type": "execute_result"
    }
   ],
   "source": [
    "bestPlan(planInfo,100000)"
   ]
  },
  {
   "cell_type": "markdown",
   "id": "543213a7-bfa4-4c20-a2ec-b5e5a6b2d034",
   "metadata": {},
   "source": [
    "**For Exercise 4.6 and 4.7, you do not have to write out the four steps, but you should still apply algorithmic thinking when solving these problems.**\n",
    "\n",
    "## Exercise 4.6: Meeting Scheduling\n",
    "\n",
    "This question asks you to create a tool to obtain the best times to schedule a meeting given the availabilities of all people interested. The tool outputs the time slot(s) that the most number of people can make. \n",
    "\n",
    "**Write a function called `getBestTimes` with one input argument:**\n",
    "\n",
    "- `availabilities`: a dictionary in which the key is the name of a person and the value is the list of all time slots that the person can make. Each time slot is represented by a string containing the date and the starting time. You can assume that each time slot has the same length so that only the start time matters. Moreover, the strings encoding the start times are formatted in a consistent way so that different strings represent different time slots, while equal strings represent the same time slot.\n",
    "\n",
    "**The function should return (not print) a dictionary where the keys are the best time slots (i.e. the slots the most number of people can make) and the value is the list of people who can make that time slot.** In other words, if there are two time slots, say A and B, that 4 people can make, and for each of the remaining time slots, at most 3 people can make it, then the dictionary should contain the time slots A and B as keys and the values should be the people who can make each time slot. \n",
    "\n",
    "**Your returned dictionary must contain all of the optimal time slots. However, the order in which time slots appear in the dictionary does not matter. Moreover, the order names appear in the list of people who can make each time slot does not matter.** See the sample outputs for illustrations. "
   ]
  },
  {
   "cell_type": "code",
   "execution_count": 484,
   "id": "7e53c7ad-543e-4f44-913c-5d31a48cbf72",
   "metadata": {
    "tags": []
   },
   "outputs": [],
   "source": [
    "# Write your function here. \n",
    "def getBestTimes(availabilities):\n",
    "\n",
    "    time_count = {}\n",
    "\n",
    "    for name, times in availabilities.items():\n",
    "            for value in times:\n",
    "                if value not in time_count:\n",
    "                    time_count[value] = {\"count\": 1, \"names\": [name]} \n",
    "                else:\n",
    "                    time_count[value][\"names\"].append(name)\n",
    "                    time_count[value][\"count\"] += 1\n",
    "\n",
    "    maxcount = max([values[\"count\"] for values in time_count.values()])\n",
    "\n",
    "    return {key:values[\"names\"] for key, values in time_count.items() if maxcount == values[\"count\"]}"
   ]
  },
  {
   "cell_type": "code",
   "execution_count": 485,
   "id": "a143cf7d-7153-4e44-9a11-264133586e96",
   "metadata": {
    "tags": []
   },
   "outputs": [
    {
     "data": {
      "text/plain": [
       "{'Tue 2pm': ['Alice', 'Bob']}"
      ]
     },
     "execution_count": 485,
     "metadata": {},
     "output_type": "execute_result"
    }
   ],
   "source": [
    "# Sample run 1\n",
    "best=getBestTimes({'Alice':['Tue 9am','Tue 9:30am', 'Tue 2pm','Wed 11am'],\\\n",
    "             'Bob':['Tue 11am','Tue 11:30am','Tue 1:30pm','Tue 2pm']})\n",
    "best"
   ]
  },
  {
   "cell_type": "code",
   "execution_count": 486,
   "id": "1b958644-1af7-451b-839b-c5f4c17b6b84",
   "metadata": {
    "tags": []
   },
   "outputs": [
    {
     "data": {
      "text/plain": [
       "{'Tue 2pm': ['Alice', 'Bob'], 'Wed 11am': ['Alice', 'Bob']}"
      ]
     },
     "execution_count": 486,
     "metadata": {},
     "output_type": "execute_result"
    }
   ],
   "source": [
    "# Sample run 2\n",
    "getBestTimes({'Alice':['Tue 9am','Tue 9:30am', 'Tue 2pm','Wed 11am'],\\\n",
    "             'Bob':['Tue 11am','Tue 11:30am','Tue 1:30pm','Tue 2pm', 'Wed 11am']})"
   ]
  },
  {
   "cell_type": "code",
   "execution_count": 487,
   "id": "f9f8b0d2-9690-45b0-9e38-f71514dc84d5",
   "metadata": {
    "tags": []
   },
   "outputs": [
    {
     "data": {
      "text/plain": [
       "{'Tue 2pm': ['Alice', 'Bob', 'Dylan'], 'Wed 11am': ['Alice', 'Bob', 'Charlie']}"
      ]
     },
     "execution_count": 487,
     "metadata": {},
     "output_type": "execute_result"
    }
   ],
   "source": [
    "# Sample run 3\n",
    "availabilities={}\n",
    "availabilities['Alice']=['Tue 9am','Tue 9:30am', 'Tue 2pm','Wed 11am']\n",
    "availabilities['Bob']=['Tue 11am','Tue 11:30am','Tue 1:30pm','Tue 2pm', 'Wed 11am']\n",
    "availabilities['Charlie']=['Wed 11am','Thu 11am','Fri 11am']\n",
    "availabilities['Dylan']=['Mon 9am','Mon 2pm','Tue 9am','Tue 2pm','Wed 9am']\n",
    "getBestTimes(availabilities)"
   ]
  },
  {
   "cell_type": "code",
   "execution_count": 488,
   "id": "91fdf95d-705a-40d7-bd30-01082f64bbac",
   "metadata": {
    "tags": []
   },
   "outputs": [
    {
     "name": "stdout",
     "output_type": "stream",
     "text": [
      "Best time slots:\n",
      "\t5/12 9am\tAvailable: ['Jack', 'Jill', 'Jenna']\n",
      "\t5/13 2pm\tAvailable: ['Jack', 'Jason', 'Juan']\n",
      "\t5/12 3pm\tAvailable: ['Jason', 'Jenna', 'Juan']\n"
     ]
    }
   ],
   "source": [
    "# Sample run 4\n",
    "d={}\n",
    "d['Jack']=['5/12 9am','5/12 11am','5/12 12pm','5/13 2pm','5/13 3pm']\n",
    "d['Jill']=['5/12 8am','5/12 9am','5/12 10am','5/13 8am','5/13 9am', '5/13 10am']\n",
    "d['Jason']=['5/12 2pm','5/12 3pm','5/12 4pm','5/13 10am','5/13 2pm']\n",
    "d['Jenna']=['5/11 9pm','5/12 9am','5/12 3pm','5/12 9pm','5/13 12pm']\n",
    "d['Juan']=['5/12 2pm','5/12 3pm','5/13 2pm','5/13 3pm']\n",
    "best=getBestTimes(d)\n",
    "print('Best time slots:')\n",
    "for time in best:\n",
    "    print(f'\\t{time}\\tAvailable:',best[time])"
   ]
  },
  {
   "cell_type": "markdown",
   "id": "8c590544-59c5-4506-be8a-004afc9474aa",
   "metadata": {},
   "source": [
    "## Exercise 4.7: Longest Period without Rain\n",
    "\n",
    "This question asks you to make a tool to help a roofing company plan its work given a forecast of whether it will rain in a period of consecutive days. Write a function called `analyzeForecast` with one input argument:\n",
    "\n",
    "- `forecast`: a list of 1's and 0's indicating whether it will rain on a given day. Each 1 indicates that it will rain on that day and 0 indicates that it will not. The first entry of the list corresponds to Day 0, the second entry to Day 1, etc.\n",
    "\n",
    "The function should return two numbers:\n",
    "\n",
    "- `maxDryPeriod`: the longest number of consecutive days without rain in this given period. \n",
    "- `startDay`: the first position in the list that begins a consecutive sequence of 0's of length `maxDryPeriod`. If `maxDryPeriod` is 0, then it doesn't matter what you return for `startDay`.\n",
    "\n",
    "\n",
    "\n",
    "**Sample run 1:**\n",
    "\n",
    "```python\n",
    "maxDryPeriod,startDay=analyzeForecast([1,1,0,0,0,0,1,1,0,0,1,0,0,0])\n",
    "print(f'maxDryPeriod={maxDryPeriod} startDay={startDay}')\n",
    "```\n",
    "\n",
    "Correct output:\n",
    "\n",
    "```\n",
    "maxDryPeriod=4 startDay=2\n",
    "```\n",
    "\n",
    "**Sample run 2:**\n",
    "\n",
    "```python\n",
    "maxDryPeriod,startDay=analyzeForecast([0,0,0,0,1,1,1,0,0,0,0,0,0,0])\n",
    "print(f'maxDryPeriod={maxDryPeriod} startDay={startDay}')\n",
    "```\n",
    "\n",
    "Correct output:\n",
    "\n",
    "```\n",
    "maxDryPeriod=7 startDay=7\n",
    "```\n",
    "\n",
    "**Sample run 3:**\n",
    "\n",
    "```python\n",
    "maxDryPeriod,startDay=analyzeForecast([0,1,0,0,1,1,1,0,0,0,1,0,0,0])\n",
    "print(f'maxDryPeriod={maxDryPeriod} startDay={startDay}')\n",
    "```\n",
    "\n",
    "Correct output\n",
    "\n",
    "```\n",
    "maxDryPeriod=3 startDay=7\n",
    "```"
   ]
  },
  {
   "cell_type": "markdown",
   "id": "916637dc-2609-4482-961f-fb846d8c7a97",
   "metadata": {},
   "source": [
    "**Sample Solutions:**\n",
    "\n",
    "One way of solving the problem is to keep track of the length of the current dry period as in the table below:\n",
    "\n",
    "|Day |Rain? |  Length of Current Dry Period| \n",
    "|--|--|--|\n",
    "|0|1 |0|\n",
    "|1|1 |0|\n",
    "|2|0 |1|\n",
    "|3|0  |2|\n",
    "|4|0|3|\n",
    "|5|0 |4 |\n",
    "|6|1 |0 |\n",
    "|7|1 |0 |\n",
    "|8| 0 |1|\n",
    "|9| 0 | 2|\n",
    "|10| 1| 0 |\n",
    "|11| 0 |1|\n",
    "|12| 0 |2|\n",
    "|13|0 | 3|\n",
    "\n",
    "In the above table, the first column correspond to the positions of the list. The second column is the corresponding value in the list `forecast`. The last column is 0 whenever the current day is wet, and increments by 1 whenever the current day is dry. The desired \"maxDryPeriod\" is the maximum entry in the last column, and the desired \"startDay\" is equal to `t-maxDryPeriod+1` where `t` is the first \"Day\" in which the last column attains the value \"maxDryPeriod\". In the above example, \"maxDryPeriod\" is 4 and \"t\" is 5, so \"startPosition\" is 2."
   ]
  },
  {
   "cell_type": "code",
   "execution_count": 489,
   "id": "e9fc863a-d8c7-487c-b838-67f176693607",
   "metadata": {
    "tags": []
   },
   "outputs": [
    {
     "name": "stdout",
     "output_type": "stream",
     "text": [
      "4 2\n"
     ]
    }
   ],
   "source": [
    "# Version for debugging, with with intermediate print statements\n",
    "forcast = [1,1,0,0,0,0,1,1,0,0,1,0,0,0]\n",
    "dry = []\n",
    "x=0\n",
    "for i in forcast:\n",
    "    if i == 0:\n",
    "        x+=1\n",
    "        dry.append(x)\n",
    "    else:\n",
    "        x=0\n",
    "        dry.append(x)\n",
    "print(max(dry), dry.index(max(dry))-max(dry)+1)"
   ]
  },
  {
   "cell_type": "code",
   "execution_count": 490,
   "id": "4c415a08-a9d0-4223-ad24-46692ef99871",
   "metadata": {
    "tags": []
   },
   "outputs": [],
   "source": [
    "# Final code\n",
    "def analyzeForecast(forcast):\n",
    "    dry = []\n",
    "    x=0\n",
    "    for i in forcast:\n",
    "        if i == 0:\n",
    "            x+=1\n",
    "            dry.append(x)\n",
    "        else:\n",
    "            x=0\n",
    "            dry.append(x)\n",
    "    return max(dry), dry.index(max(dry))-max(dry)+1"
   ]
  },
  {
   "cell_type": "code",
   "execution_count": 491,
   "id": "0b3921ed-2483-4ec9-8339-92c50e7a7e47",
   "metadata": {
    "tags": []
   },
   "outputs": [
    {
     "name": "stdout",
     "output_type": "stream",
     "text": [
      "maxDryPeriod=4 startDay=2\n"
     ]
    }
   ],
   "source": [
    "maxDryPeriod,startDay=analyzeForecast([1,1,0,0,0,0,1,1,0,0,1,0,0,0])\n",
    "print(f'maxDryPeriod={maxDryPeriod} startDay={startDay}')"
   ]
  },
  {
   "cell_type": "code",
   "execution_count": 492,
   "id": "f9cec566-2aae-4c91-a4b2-bc3cf8d5530c",
   "metadata": {
    "tags": []
   },
   "outputs": [
    {
     "name": "stdout",
     "output_type": "stream",
     "text": [
      "maxDryPeriod=7 startDay=7\n"
     ]
    }
   ],
   "source": [
    "maxDryPeriod,startDay=analyzeForecast([0,0,0,0,1,1,1,0,0,0,0,0,0,0])\n",
    "print(f'maxDryPeriod={maxDryPeriod} startDay={startDay}')"
   ]
  },
  {
   "cell_type": "code",
   "execution_count": 493,
   "id": "5f10b070-3169-4f8a-8feb-36763da748f6",
   "metadata": {
    "tags": []
   },
   "outputs": [
    {
     "name": "stdout",
     "output_type": "stream",
     "text": [
      "maxDryPeriod=3 startDay=7\n"
     ]
    }
   ],
   "source": [
    "maxDryPeriod,startDay=analyzeForecast([0,1,0,0,1,1,1,0,0,0,1,0,0,0])\n",
    "print(f'maxDryPeriod={maxDryPeriod} startDay={startDay}')"
   ]
  },
  {
   "cell_type": "code",
   "execution_count": null,
   "id": "d055378a-c001-440b-a148-720c14fe049f",
   "metadata": {},
   "outputs": [],
   "source": []
  }
 ],
 "metadata": {
  "kernelspec": {
   "display_name": "Python 3 (ipykernel)",
   "language": "python",
   "name": "python3"
  },
  "language_info": {
   "codemirror_mode": {
    "name": "ipython",
    "version": 3
   },
   "file_extension": ".py",
   "mimetype": "text/x-python",
   "name": "python",
   "nbconvert_exporter": "python",
   "pygments_lexer": "ipython3",
   "version": "3.11.4"
  }
 },
 "nbformat": 4,
 "nbformat_minor": 5
}
