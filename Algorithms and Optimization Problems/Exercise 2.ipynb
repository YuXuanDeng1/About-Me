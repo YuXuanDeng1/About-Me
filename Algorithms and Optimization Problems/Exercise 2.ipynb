{
 "cells": [
  {
   "cell_type": "markdown",
   "id": "4052d6e7-d9e0-440d-b70d-c39c13d31c96",
   "metadata": {},
   "source": [
    "# Exercises for Week 2: Mastering Loops\n",
    "\n",
    "## Grading Scheme:\n",
    "Important: This Jupyter notebook needs to be completed and submitted via Blackboard before the due date to receive a non-zero grade.\n",
    "\n",
    "- 5: Every question is completed and the code returns the correct outputs on all of the sample inputs.\n",
    "- 4: Almost complete, but certain questions are blank, returns clearly incorrect outputs, or the code there does not run at all.\n",
    "- 3: This score will not be assigned, as everyone should strive to get 4 or 5.\n",
    "- 2: Not close to complete, but at least 50% complete.\n",
    "- 1: At least 10% complete, but less than 50% complete\n",
    "- 0: Less than 10% complete, or response is identical to someone else's, indicating plagiarism.\n",
    "\n",
    "A perfect score is 5. Note that your code does not need to be absolutely perfect to receive a 5, but you need to complete every question and ensure that the outputs are correct on all of the sample runs included here. **To ensure that you get 5 out of 5, before you submit, restart the Kernel and run all, and check that all of the outputs are as intended.**\n",
    "\n",
    "These exercises are intended to be completed in 5-7 hours, including class time. You should budget at least this much time before the due date."
   ]
  },
  {
   "cell_type": "markdown",
   "id": "414a0c6d-2de1-4334-ae64-2f29d5d92712",
   "metadata": {},
   "source": [
    "## Name: XXX"
   ]
  },
  {
   "cell_type": "markdown",
   "id": "83d82ce8-05d0-4237-ad0e-3ee4f4c48d10",
   "metadata": {},
   "source": [
    "## Exercise 2.1: Practicing For-Loops"
   ]
  },
  {
   "cell_type": "markdown",
   "id": "95c4366e-3f07-483f-8057-1f877246f1ae",
   "metadata": {},
   "source": [
    "**a)** Write a for loop which takes in the list of names `['Alice','Bob','Charles']`, and print the number of characters in each name, as below. \n",
    "\n",
    "**Hint:** you can use the `len` function to find the length of a string, as in\n",
    "```python\n",
    "len('Alice')\n",
    "```"
   ]
  },
  {
   "cell_type": "code",
   "execution_count": 14,
   "id": "6a89dd94-c52f-49be-b995-0f2981defc15",
   "metadata": {},
   "outputs": [
    {
     "name": "stdout",
     "output_type": "stream",
     "text": [
      "The name Alice has length 5.\n",
      "The name Bob has length 3.\n",
      "The name Charles has length 7.\n"
     ]
    }
   ],
   "source": [
    "# Sample output"
   ]
  },
  {
   "cell_type": "code",
   "execution_count": 13,
   "id": "537ee9f2-a142-4122-8bd2-55e0e8a3c449",
   "metadata": {
    "tags": []
   },
   "outputs": [
    {
     "name": "stdout",
     "output_type": "stream",
     "text": [
      "The name Alice has length 5.\n",
      "The name Bob has length 3.\n",
      "The name Charles has length 7.\n"
     ]
    }
   ],
   "source": [
    "# Write your code here \n",
    "l = [\"Alice\",\"Bob\",\"Charles\"]\n",
    "for i in l:\n",
    "    print(f\"The name {i} has length {len(i)}.\")\n"
   ]
  },
  {
   "cell_type": "markdown",
   "id": "426bf44b-c070-4e3d-ae88-dba0b935214f",
   "metadata": {},
   "source": [
    "**b)** Write a for loop to print the multiplication table for multiplying by 2, as in the sample output below."
   ]
  },
  {
   "cell_type": "code",
   "execution_count": 15,
   "id": "561a7248-0bc9-4d74-ada1-e0d4e9d731fa",
   "metadata": {},
   "outputs": [
    {
     "name": "stdout",
     "output_type": "stream",
     "text": [
      "1 x 2 = 2\n",
      "2 x 2 = 4\n",
      "3 x 2 = 6\n",
      "4 x 2 = 8\n",
      "5 x 2 = 10\n",
      "6 x 2 = 12\n",
      "7 x 2 = 14\n",
      "8 x 2 = 16\n",
      "9 x 2 = 18\n"
     ]
    }
   ],
   "source": [
    "# Sample output"
   ]
  },
  {
   "cell_type": "code",
   "execution_count": 5,
   "id": "96e813c9-d59e-439f-8a76-79e35915cc77",
   "metadata": {
    "tags": []
   },
   "outputs": [
    {
     "name": "stdout",
     "output_type": "stream",
     "text": [
      "1 x 2 = 2\n",
      "2 x 2 = 4\n",
      "3 x 2 = 6\n",
      "4 x 2 = 8\n",
      "5 x 2 = 10\n",
      "6 x 2 = 12\n",
      "7 x 2 = 14\n",
      "8 x 2 = 16\n",
      "9 x 2 = 18\n"
     ]
    }
   ],
   "source": [
    "# Write your code here \n",
    "for i in range(1,10):\n",
    "    print (f\"{i} x 2 = {i*2}\")\n"
   ]
  },
  {
   "cell_type": "markdown",
   "id": "f7fe366a-9c18-4062-88b2-d25583d73ce9",
   "metadata": {},
   "source": [
    "**c)** Write one line of code using `range` which generates a `list` object containing odd numbers from 1 to 29 (inclusive)."
   ]
  },
  {
   "cell_type": "code",
   "execution_count": 16,
   "id": "ba08e059-a223-4947-9d6e-8ff8ba04be04",
   "metadata": {},
   "outputs": [
    {
     "data": {
      "text/plain": [
       "[1, 3, 5, 7, 9, 11, 13, 15, 17, 19, 21, 23, 25, 27, 29]"
      ]
     },
     "execution_count": 16,
     "metadata": {},
     "output_type": "execute_result"
    }
   ],
   "source": [
    "# Sample output"
   ]
  },
  {
   "cell_type": "code",
   "execution_count": 12,
   "id": "d2c3ea28-86e3-423b-b82c-5cbbca5801c8",
   "metadata": {
    "tags": []
   },
   "outputs": [
    {
     "data": {
      "text/plain": [
       "[1, 3, 5, 7, 9, 11, 13, 15, 17, 19, 21, 23, 25, 27, 29]"
      ]
     },
     "execution_count": 12,
     "metadata": {},
     "output_type": "execute_result"
    }
   ],
   "source": [
    "# Write your code here \n",
    "y = list(range(1,30,2))\n",
    "y"
   ]
  },
  {
   "cell_type": "markdown",
   "id": "9c059036-3085-41ec-bbe8-2cd1ab1b0851",
   "metadata": {},
   "source": [
    "**d)** Print a line that lists the even numbers from 10 to 0 backward, as below."
   ]
  },
  {
   "cell_type": "code",
   "execution_count": 17,
   "id": "ab511c4a-32e0-45e9-a725-756d0e53be16",
   "metadata": {},
   "outputs": [
    {
     "name": "stdout",
     "output_type": "stream",
     "text": [
      "10 8 6 4 2 0 "
     ]
    }
   ],
   "source": [
    "# Sample output"
   ]
  },
  {
   "cell_type": "code",
   "execution_count": 21,
   "id": "b2769e4a-5a2a-43b7-8010-08782ad14d76",
   "metadata": {
    "tags": []
   },
   "outputs": [
    {
     "name": "stdout",
     "output_type": "stream",
     "text": [
      "10 8 6 4 2 0 "
     ]
    }
   ],
   "source": [
    "# Write your code here \n",
    "for i in range(10,-1,-2):\n",
    "    print(i,end=\" \")"
   ]
  },
  {
   "cell_type": "markdown",
   "id": "b56eb7bb-b01d-4b60-81be-3cdb5fc2fbbf",
   "metadata": {},
   "source": [
    "**e)** Write a function `squares` with one input parameter `n` (assumed to be a positive integer). The function should print the squares of the first `n` positive integers, as shown below. "
   ]
  },
  {
   "cell_type": "code",
   "execution_count": 36,
   "id": "2a99918c-e9c6-42fe-8ce9-7038bd166e61",
   "metadata": {
    "tags": []
   },
   "outputs": [
    {
     "name": "stdout",
     "output_type": "stream",
     "text": [
      "1 x 1 = 1\n",
      "2 x 2 = 4\n",
      "3 x 3 = 9\n",
      "4 x 4 = 16\n",
      "5 x 5 = 25\n"
     ]
    }
   ],
   "source": [
    "# Write your function here\n",
    "def squares(n):\n",
    "    for i in range(1,n+1):\n",
    "        print(f\"{i} x {i} = {i*i}\")\n",
    "        \n",
    "squares(5)"
   ]
  },
  {
   "cell_type": "code",
   "execution_count": 19,
   "id": "f4c6bcb3-236a-4b0f-9872-45d5118d6527",
   "metadata": {},
   "outputs": [
    {
     "name": "stdout",
     "output_type": "stream",
     "text": [
      "1 x 1 = 1\n",
      "2 x 2 = 4\n",
      "3 x 3 = 9\n"
     ]
    }
   ],
   "source": [
    "# Test code 1\n",
    "squares(3)"
   ]
  },
  {
   "cell_type": "code",
   "execution_count": 20,
   "id": "e73eb27d-9dda-4dab-98eb-eaf31bb82d10",
   "metadata": {},
   "outputs": [
    {
     "name": "stdout",
     "output_type": "stream",
     "text": [
      "1 x 1 = 1\n",
      "2 x 2 = 4\n",
      "3 x 3 = 9\n",
      "4 x 4 = 16\n",
      "5 x 5 = 25\n"
     ]
    }
   ],
   "source": [
    "# Test code 2\n",
    "squares(5)"
   ]
  },
  {
   "cell_type": "markdown",
   "id": "979389fe-3597-43b2-a3d9-8bd8745bba80",
   "metadata": {},
   "source": [
    "## Exercise 2.2: Practicing List-Comprehension\n",
    "\n",
    "Execute the following cell to load in the list named \"sales\":\n"
   ]
  },
  {
   "cell_type": "code",
   "execution_count": 60,
   "id": "883fe514-f282-40f0-80a6-78d3621cc4bf",
   "metadata": {
    "tags": []
   },
   "outputs": [],
   "source": [
    "sales=[10,20,5,25,30,12,18,50,30,20,10,4]"
   ]
  },
  {
   "cell_type": "markdown",
   "id": "60af12b5-5640-439a-bc81-15bbe41f99c4",
   "metadata": {},
   "source": [
    "**a)** Using list comprehension, write one line to generate the list of elements in \"sales\" that are at least 20."
   ]
  },
  {
   "cell_type": "code",
   "execution_count": 30,
   "id": "c707fb1e-6bc4-4cb8-80e7-5e3c3312045e",
   "metadata": {},
   "outputs": [
    {
     "data": {
      "text/plain": [
       "[20, 25, 30, 50, 30, 20]"
      ]
     },
     "execution_count": 30,
     "metadata": {},
     "output_type": "execute_result"
    }
   ],
   "source": [
    "# Sample output"
   ]
  },
  {
   "cell_type": "code",
   "execution_count": 61,
   "id": "7635dfc1-e23c-4fa9-9823-9ae3ff058886",
   "metadata": {
    "tags": []
   },
   "outputs": [
    {
     "data": {
      "text/plain": [
       "[20, 25, 30, 50, 30, 20]"
      ]
     },
     "execution_count": 61,
     "metadata": {},
     "output_type": "execute_result"
    }
   ],
   "source": [
    "# Write your code here \n",
    "[i for i in sales if i>=20]"
   ]
  },
  {
   "cell_type": "markdown",
   "id": "73302ccb-215d-46de-aa41-84d4554d091c",
   "metadata": {},
   "source": [
    "**b)** Write one line to count the number of elements in \"sales\" that are at least 20. Hint: find the length of the above list."
   ]
  },
  {
   "cell_type": "code",
   "execution_count": 31,
   "id": "c3287095-73f8-4f58-b438-549727491a70",
   "metadata": {},
   "outputs": [
    {
     "data": {
      "text/plain": [
       "6"
      ]
     },
     "execution_count": 31,
     "metadata": {},
     "output_type": "execute_result"
    }
   ],
   "source": [
    "# Sample output"
   ]
  },
  {
   "cell_type": "code",
   "execution_count": 62,
   "id": "8c23d84d-4210-4e73-965b-790d0c76de80",
   "metadata": {
    "tags": []
   },
   "outputs": [
    {
     "data": {
      "text/plain": [
       "6"
      ]
     },
     "execution_count": 62,
     "metadata": {},
     "output_type": "execute_result"
    }
   ],
   "source": [
    "# Write your code here \n",
    "len([i for i in sales if i>=20])"
   ]
  },
  {
   "cell_type": "markdown",
   "id": "d7eb93cc-fa77-42e0-a7e8-947fae556149",
   "metadata": {},
   "source": [
    "**c)** Write one line to count the number of elements that are between 5 and 10 (inclusive)."
   ]
  },
  {
   "cell_type": "code",
   "execution_count": 32,
   "id": "2352a540-5478-410d-a380-3187f146edf6",
   "metadata": {},
   "outputs": [
    {
     "data": {
      "text/plain": [
       "3"
      ]
     },
     "execution_count": 32,
     "metadata": {},
     "output_type": "execute_result"
    }
   ],
   "source": [
    "# Sample output"
   ]
  },
  {
   "cell_type": "code",
   "execution_count": 63,
   "id": "bb120b5d-c858-4d2f-9f57-409e5ed724f8",
   "metadata": {
    "tags": []
   },
   "outputs": [
    {
     "data": {
      "text/plain": [
       "3"
      ]
     },
     "execution_count": 63,
     "metadata": {},
     "output_type": "execute_result"
    }
   ],
   "source": [
    "# Write your code here \n",
    "len([i for i in sales if 5<=i<=10])"
   ]
  },
  {
   "cell_type": "markdown",
   "id": "bce37542-d586-4026-a780-5590b1828a98",
   "metadata": {},
   "source": [
    "**d)** Generate a list of zeros with the same length as the list `sales`."
   ]
  },
  {
   "cell_type": "code",
   "execution_count": 33,
   "id": "c6b7b063-720c-4aec-826f-ecab1f80e81a",
   "metadata": {},
   "outputs": [
    {
     "data": {
      "text/plain": [
       "[0, 0, 0, 0, 0, 0, 0, 0, 0, 0, 0, 0]"
      ]
     },
     "execution_count": 33,
     "metadata": {},
     "output_type": "execute_result"
    }
   ],
   "source": [
    "# Sample output"
   ]
  },
  {
   "cell_type": "code",
   "execution_count": 64,
   "id": "db7430c1-b362-49a1-b995-eea6cd6c7701",
   "metadata": {
    "tags": []
   },
   "outputs": [
    {
     "data": {
      "text/plain": [
       "[0, 0, 0, 0, 0, 0, 0, 0, 0, 0, 0, 0]"
      ]
     },
     "execution_count": 64,
     "metadata": {},
     "output_type": "execute_result"
    }
   ],
   "source": [
    "# Write your code here \n",
    "[0 for i in sales]"
   ]
  },
  {
   "cell_type": "markdown",
   "id": "81490130-d73c-4263-9663-a9b8e73eeaca",
   "metadata": {},
   "source": [
    "**e)** Use dictionary comprehension to write one line that generates the following dictionary. The values are from the list `sales` and the keys are the strings \"Week 1\", \"Week 2\", etc. "
   ]
  },
  {
   "cell_type": "code",
   "execution_count": 35,
   "id": "4dbec35d-7c6d-42c9-b571-f04f851b047a",
   "metadata": {},
   "outputs": [
    {
     "data": {
      "text/plain": [
       "{'Week 1': 10,\n",
       " 'Week 2': 20,\n",
       " 'Week 3': 5,\n",
       " 'Week 4': 25,\n",
       " 'Week 5': 30,\n",
       " 'Week 6': 12,\n",
       " 'Week 7': 18,\n",
       " 'Week 8': 50,\n",
       " 'Week 9': 30,\n",
       " 'Week 10': 20,\n",
       " 'Week 11': 10,\n",
       " 'Week 12': 4}"
      ]
     },
     "execution_count": 35,
     "metadata": {},
     "output_type": "execute_result"
    }
   ],
   "source": [
    "# Sample output"
   ]
  },
  {
   "cell_type": "code",
   "execution_count": 98,
   "id": "49326ae4-2be2-4627-b714-6faa649ed818",
   "metadata": {
    "tags": []
   },
   "outputs": [
    {
     "data": {
      "text/plain": [
       "{'Week 1': 10,\n",
       " 'Week 2': 20,\n",
       " 'Week 3': 5,\n",
       " 'Week 4': 25,\n",
       " 'Week 5': 30,\n",
       " 'Week 6': 12,\n",
       " 'Week 7': 18,\n",
       " 'Week 8': 50,\n",
       " 'Week 9': 30,\n",
       " 'Week 10': 20,\n",
       " 'Week 11': 10,\n",
       " 'Week 12': 4}"
      ]
     },
     "execution_count": 98,
     "metadata": {},
     "output_type": "execute_result"
    }
   ],
   "source": [
    "# Write your code here \n",
    "{f\"Week {i+1}\": sales[i] for i in range(len(sales))}"
   ]
  },
  {
   "cell_type": "markdown",
   "id": "1cae43ef-d047-4218-a1f5-3fd2d5a2653b",
   "metadata": {},
   "source": [
    "**f)** Suppose that the price of the product in each week is given by the following list. Use dictionary comprehension to write one additional line to yield the dictionary mapping the week name to the revenue each week. (Revenue in each week is equal to the sales multiplied by the price.)\n",
    "\n",
    "```python\n",
    "price=[5,5,10,6,5,5,6,8,8,8,5,10]\n",
    "```"
   ]
  },
  {
   "cell_type": "code",
   "execution_count": 36,
   "id": "34ac1ebf-f92e-4c25-8926-e9494a0d2345",
   "metadata": {},
   "outputs": [
    {
     "data": {
      "text/plain": [
       "{'Week 1': 50,\n",
       " 'Week 2': 100,\n",
       " 'Week 3': 50,\n",
       " 'Week 4': 150,\n",
       " 'Week 5': 150,\n",
       " 'Week 6': 60,\n",
       " 'Week 7': 108,\n",
       " 'Week 8': 400,\n",
       " 'Week 9': 240,\n",
       " 'Week 10': 160,\n",
       " 'Week 11': 50,\n",
       " 'Week 12': 40}"
      ]
     },
     "execution_count": 36,
     "metadata": {},
     "output_type": "execute_result"
    }
   ],
   "source": [
    "# Sample output"
   ]
  },
  {
   "cell_type": "code",
   "execution_count": 100,
   "id": "a0257415-2377-4868-bcfa-d282a3f56065",
   "metadata": {
    "tags": []
   },
   "outputs": [
    {
     "data": {
      "text/plain": [
       "{'Week 1': 50,\n",
       " 'Week 2': 100,\n",
       " 'Week 3': 50,\n",
       " 'Week 4': 150,\n",
       " 'Week 5': 150,\n",
       " 'Week 6': 60,\n",
       " 'Week 7': 108,\n",
       " 'Week 8': 400,\n",
       " 'Week 9': 240,\n",
       " 'Week 10': 160,\n",
       " 'Week 11': 50,\n",
       " 'Week 12': 40}"
      ]
     },
     "execution_count": 100,
     "metadata": {},
     "output_type": "execute_result"
    }
   ],
   "source": [
    "price=[5,5,10,6,5,5,6,8,8,8,5,10]\n",
    "# Write your code here \n",
    "{f\"Week {i+1}\": sales[i]*price[i] for i in range(len(sales))}"
   ]
  },
  {
   "cell_type": "markdown",
   "id": "5b7e327d-1168-40df-a12a-3a8d56669f82",
   "metadata": {},
   "source": [
    "## Exercise 2.3: Payroll Calculations\n",
    "\n",
    "In a certain company, the part-time employees receive a wage based on the number of hours logged each week. Write a function called \"payroll\" with two input arguments:\n",
    "\n",
    "- hours: a list of non-negative numbers corresponding to the number of hours an employee logged in successive weeks.\n",
    "- rate: the hourly wage for the employee.\n",
    "\n",
    "However, a part-time employee can only be paid for at most 20 hours in any given week, so if the employee logs more than 20 hours in a week, he/she will only be paid for 20 hours. \n",
    "\n",
    "The program should print (not return) a statement summarizing the total wage as well as the average wage per week. \n",
    "\n",
    "**Sample run 1:**\n",
    "```python\n",
    "payroll([5,3,2,4],10)\n",
    "```\n",
    "\n",
    "**Sample output 1:**\n",
    "```\n",
    "The total wage is $140. Average is $35.0 per week.\n",
    "```\n",
    "\n",
    "**Sample run 2:**\n",
    "```python\n",
    "payroll([25,15,14,30,0],12.5)\n",
    "```\n",
    "\n",
    "**Sample output 2:**\n",
    "```\n",
    "The total wage is $862.5. Average is $172.5 per week.\n",
    "```"
   ]
  },
  {
   "cell_type": "code",
   "execution_count": 147,
   "id": "1968b651-d206-4602-9b02-4e1694febad2",
   "metadata": {
    "tags": []
   },
   "outputs": [],
   "source": [
    "# Write your function here\n",
    "def payroll(hours,rate):\n",
    "    \"\"\"Using list comprehension, creates compensated hours list then does element wise multiplication using rate. The values are then summed\"\"\"\n",
    "    x = [20 if i>20 else i for i in hours]\n",
    "    print(f\"The total wage is ${sum([i*rate for i in x])}. Average is ${sum(i*rate for i in x)/len(x)} per week.\")"
   ]
  },
  {
   "cell_type": "code",
   "execution_count": 133,
   "id": "0ce79d16-9362-4680-8ec3-5bfcb73980ce",
   "metadata": {
    "tags": []
   },
   "outputs": [
    {
     "data": {
      "text/plain": [
       "[20, 15, 14, 20, 0]"
      ]
     },
     "execution_count": 133,
     "metadata": {},
     "output_type": "execute_result"
    }
   ],
   "source": []
  },
  {
   "cell_type": "code",
   "execution_count": 148,
   "id": "467fabda-3a9f-43e2-91ad-6877df1c4fe2",
   "metadata": {
    "tags": []
   },
   "outputs": [
    {
     "name": "stdout",
     "output_type": "stream",
     "text": [
      "The total wage is $140. Average is $35.0 per week.\n"
     ]
    }
   ],
   "source": [
    "# Sample run 1\n",
    "payroll([5,3,2,4],10)"
   ]
  },
  {
   "cell_type": "code",
   "execution_count": 149,
   "id": "fbc6b991-13c3-4703-b8ed-f6eb366b152c",
   "metadata": {
    "tags": []
   },
   "outputs": [
    {
     "name": "stdout",
     "output_type": "stream",
     "text": [
      "The total wage is $862.5. Average is $172.5 per week.\n"
     ]
    }
   ],
   "source": [
    "# Sample run 2\n",
    "payroll([25,15,14,30,0],12.5)"
   ]
  },
  {
   "cell_type": "markdown",
   "id": "baf57d77-95b6-4ffd-983f-2b960f02233d",
   "metadata": {},
   "source": [
    "## Exercise 2.4: Sentence Analysis\n",
    "\n",
    "Write a function called \"analyzeSentence\" with one input argument:\n",
    "\n",
    "- sentence: a string of words separated by spaces, but without punctuations.\n",
    "\n",
    "The function should print (not return) a statement with the word count, the average length of the word (rounded to 2 decimal places), and the maximum length of words.\n",
    "\n",
    "**Hint:** You can use the str.split function, which splits a given string into words by spaces, as illustrated below.\n",
    "\n",
    "```python\n",
    "'I love programming'.split()\n",
    "```\n",
    "Would return the list `['I','love','programming']`.\n",
    "\n",
    "**Sample run 1:**\n",
    "```python\n",
    "analyzeSentence('I love programming in Python')\n",
    "```\n",
    "\n",
    "**Sample output 1:**\n",
    "```\n",
    "This sentence has 5 words.\n",
    "Average word length: 4.8\n",
    "Maximum word length: 11\n",
    "```\n",
    "\n",
    "**Sample run 2:**\n",
    "```python\n",
    "analyzeSentence('The quick brown fox jumps over the lazy dog')\n",
    "```\n",
    "\n",
    "**Sample output 2:**\n",
    "```\n",
    "This sentence has 9 words.\n",
    "Average word length: 3.89\n",
    "Maximum word length: 5\n",
    "```"
   ]
  },
  {
   "cell_type": "code",
   "execution_count": 167,
   "id": "d1d3df82-a434-47b2-8bfd-a7bd4fe7e629",
   "metadata": {
    "tags": []
   },
   "outputs": [],
   "source": [
    "# Write your function here\n",
    "def analyzeSentence(sentence):\n",
    "    print(f'This sentence has {len(sentence.split())} words.')\n",
    "    print(f'Average word length: {round(sum([len(i) for i in sentence.split()])/len([len(i) for i in sentence.split()]),2)}')\n",
    "    print(f'Maximum word length: {max([len(i) for i in sentence.split()])}')"
   ]
  },
  {
   "cell_type": "code",
   "execution_count": 168,
   "id": "9f108e37-873d-4e7a-87e8-d6265380eaea",
   "metadata": {
    "tags": []
   },
   "outputs": [
    {
     "name": "stdout",
     "output_type": "stream",
     "text": [
      "This sentence has 5 words.\n",
      "Average word length: 4.8\n",
      "Maximum word length: 11\n"
     ]
    }
   ],
   "source": [
    "# Sample run 1\n",
    "analyzeSentence('I love programming in Python')"
   ]
  },
  {
   "cell_type": "code",
   "execution_count": 169,
   "id": "4567c181-558a-41f6-acb8-15cac688315f",
   "metadata": {
    "tags": []
   },
   "outputs": [
    {
     "name": "stdout",
     "output_type": "stream",
     "text": [
      "This sentence has 9 words.\n",
      "Average word length: 3.89\n",
      "Maximum word length: 5\n"
     ]
    }
   ],
   "source": [
    "# Sample run 2\n",
    "analyzeSentence('The quick brown fox jumps over the lazy dog')"
   ]
  },
  {
   "cell_type": "markdown",
   "id": "244004dd-ff0b-447a-b8c8-1da8e012e1f9",
   "metadata": {},
   "source": [
    "## Exercise 2.5: Practicing Break and Continue"
   ]
  },
  {
   "cell_type": "markdown",
   "id": "b56e8579-cf58-4915-a14a-1a928e34627b",
   "metadata": {},
   "source": [
    "**a)** Write a function called `firstOutbreak` with two input arguments:\n",
    "\n",
    "- **cases**: a list of positive integers corresponding to the number of cases of a certain disease each week. The weeks are labelled starting from 0.\n",
    "- **threshold:** a positive integer denoting what is an outbreak.\n",
    "\n",
    "The function should print (not return) one sentence that specifies the first week in which the number of cases is at least equal to the threshold, along with the number of cases that week. If the number of cases never reaches the threshold, the program should print an alternative statement, as in the sample outputs below."
   ]
  },
  {
   "cell_type": "code",
   "execution_count": 52,
   "id": "d818a467-942c-4a51-8736-0d3dd1632ecf",
   "metadata": {
    "tags": []
   },
   "outputs": [],
   "source": [
    "# Write your function here\n",
    "def firstOutbreak(cases,threshold):\n",
    "    week = 0\n",
    "    for i in cases:\n",
    "        if i >= threshold:\n",
    "            print(f\"The first outbreak occured in week {week} with {i} cases\")\n",
    "            break\n",
    "        week += 1\n",
    "        if week == len(cases):\n",
    "            print(\"There is no outbreak recorded\")\n",
    "            break"
   ]
  },
  {
   "cell_type": "code",
   "execution_count": 53,
   "id": "5a721b5f-f6ce-441c-8961-57c0a0956753",
   "metadata": {
    "tags": []
   },
   "outputs": [
    {
     "name": "stdout",
     "output_type": "stream",
     "text": [
      "The first outbreak occured in week 2 with 30 cases\n"
     ]
    }
   ],
   "source": [
    "firstOutbreak([10,20,30,15,50],25)"
   ]
  },
  {
   "cell_type": "code",
   "execution_count": 54,
   "id": "dc9285a7-c53a-4300-b322-cc59b71ce9c8",
   "metadata": {
    "tags": []
   },
   "outputs": [
    {
     "name": "stdout",
     "output_type": "stream",
     "text": [
      "There is no outbreak recorded\n"
     ]
    }
   ],
   "source": [
    "firstOutbreak([10,20,30,15,50],51)"
   ]
  },
  {
   "cell_type": "markdown",
   "id": "818333bf-2c72-4a51-8204-a869395d4d9a",
   "metadata": {},
   "source": [
    "**b)** Write a program that asks the user to type a sentence (in lower case without punctuations) and print the same sentence but removing all occurrences of the following words: \"a\", \"the\", \"of\", \"in\", \"and\", \"i\", \"you\", \"he\", \"she\". \n",
    "\n",
    "Hint: you can split a sentence into a list of words using \n",
    "```python\n",
    "sentence.split()\n",
    "```\n",
    "assuming that the object `sentence` is a string. You can also print words one by one and separate them by spaces using ```print(..., end=' ')```."
   ]
  },
  {
   "cell_type": "code",
   "execution_count": 54,
   "id": "01d84a6c-fd7f-4270-94dd-5ea7c0dd95e6",
   "metadata": {},
   "outputs": [
    {
     "name": "stdin",
     "output_type": "stream",
     "text": [
      "Please enter a sentence (in lower case without punctuations):  i love programming in python and r\n"
     ]
    },
    {
     "name": "stdout",
     "output_type": "stream",
     "text": [
      "love programming python r "
     ]
    }
   ],
   "source": [
    "# Sample output"
   ]
  },
  {
   "cell_type": "code",
   "execution_count": 65,
   "id": "e37f45d7-9e38-46bf-800e-89575d3eb802",
   "metadata": {
    "tags": []
   },
   "outputs": [
    {
     "name": "stdin",
     "output_type": "stream",
     "text": [
      "Please enter a sentence (in lower case without punctuations: i love programming in python and r\n"
     ]
    },
    {
     "name": "stdout",
     "output_type": "stream",
     "text": [
      "love programming python r "
     ]
    }
   ],
   "source": [
    "# Write your code here \n",
    "sentence = input(\"Please enter a sentence (in lower case without punctuations:\")\n",
    "words = [\"a\",\"the\",\"of\", \"in\", \"and\", \"i\", \"you\", \"he\", \"she\"]\n",
    "\n",
    "for i in sentence.split():\n",
    "    if i not in words:\n",
    "        print (i, end = \" \")"
   ]
  },
  {
   "cell_type": "markdown",
   "id": "9392b0fb-b8dd-4445-9c66-52efffe4014a",
   "metadata": {},
   "source": [
    "## Exercise 2.6: Estimating Time of Selling Out\n",
    "\n",
    "Suppose that there are limited number of tickets to an event and your goal is to estimate when the tickets will be sold out.\n",
    "\n",
    "Write a function `sellOutTime` with two input arguments:\n",
    "\n",
    "- `demand`: a list of positive integers, representing the forecasted demand in each week. Weeks are numbered from 1 (rather than from 0).\n",
    "- `inventory`: an integer denoting the initial supply of tickets.\n",
    "\n",
    "The function should return the week in which tickets will sell out. If the tickets never sell out in the given weeks, then the function should return the week after the given horizon.  \n",
    "\n",
    "For example, if `demand=[50,80,89]` (representing a demand of 50 in week 1, 80 in week 2, and 90 in week 3), then \n",
    "\n",
    "- if initial inventory is 10, the tickets will sell out in week 1. (Function returns 1.)\n",
    "- if initial inventory is 50, the function should still return 1.\n",
    "- if initial inventory is 60, function should return 2. (Because supply lasts into week 2.)\n",
    "- if initial inventory is 300, function should return 4. (Supply lasts even after the 3 weeks are over.)"
   ]
  },
  {
   "cell_type": "markdown",
   "id": "0f10c1dd-ab21-4f94-9ffb-a4f1151bb654",
   "metadata": {},
   "source": [
    "The following table illustrates what is going on in each iteration of the loop when initial inventory is 500."
   ]
  },
  {
   "cell_type": "code",
   "execution_count": 55,
   "id": "84b622b0-d389-44bd-901f-9a8997e43c88",
   "metadata": {},
   "outputs": [
    {
     "name": "stdout",
     "output_type": "stream",
     "text": [
      "Week\tDemand\tRemaining Inventory\n",
      "0\t\t500\n",
      "1\t50\t450\n",
      "2\t80\t370\n",
      "3\t89\t281\n",
      "4\t100\t181\n",
      "5\t120\t61\n",
      "6\t140\t-79\n"
     ]
    }
   ],
   "source": [
    "# Table"
   ]
  },
  {
   "cell_type": "code",
   "execution_count": 66,
   "id": "f15765d1-3833-4b96-ba54-4a8993be0374",
   "metadata": {
    "tags": []
   },
   "outputs": [
    {
     "name": "stdout",
     "output_type": "stream",
     "text": [
      "Week\tDemand\tRemaning Inventory\n",
      "0\t\t500\n",
      "1\t50\t450\n",
      "2\t80\t370\n",
      "3\t89\t281\n",
      "4\t100\t181\n",
      "5\t120\t61\n",
      "6\t140\t-79\n"
     ]
    }
   ],
   "source": [
    "# Try to replicate the above table here without function encapsulation\n",
    "week = list(range(1,7))\n",
    "demand = [50,80,89,100,120,140]\n",
    "remain = 500\n",
    "print('Week\\tDemand\\tRemaning Inventory')\n",
    "print(f'{0}\\t\\t500')\n",
    "for i in week:\n",
    "    remain=remain-demand[i-1]\n",
    "    print(f\"{i}\\t{demand[i-1]}\\t{remain}\")"
   ]
  },
  {
   "cell_type": "code",
   "execution_count": 99,
   "id": "a84fe974-781a-46a9-a74d-efd5715f8ec8",
   "metadata": {
    "tags": []
   },
   "outputs": [],
   "source": [
    "# Write your function here\n",
    "def sellOutTime(demand, inventory):\n",
    "    week = 1\n",
    "    Rinventory = inventory\n",
    "    \n",
    "    for i in demand:\n",
    "        if i <= inventory:\n",
    "            Rinventory -= i\n",
    "            week += 1\n",
    "            if Rinventory <= 0:\n",
    "                return(week-1)\n",
    "            elif week > len(demand):\n",
    "                return(week)\n",
    "        else:\n",
    "            return(week)\n",
    "            break"
   ]
  },
  {
   "cell_type": "markdown",
   "id": "1f0be2c8-c760-4dd5-b64e-f96efc4b0060",
   "metadata": {},
   "source": [
    "The following code illustrates the use of the function after you complete it."
   ]
  },
  {
   "cell_type": "code",
   "execution_count": 100,
   "id": "9dac89c3-4d7b-4617-b26b-2e9543bcd1cb",
   "metadata": {
    "tags": []
   },
   "outputs": [
    {
     "name": "stdout",
     "output_type": "stream",
     "text": [
      "With initial inventory 10 supply will last until week 1\n",
      "With initial inventory 50 supply will last until week 1\n",
      "With initial inventory 60 supply will last until week 2\n",
      "With initial inventory 130 supply will last until week 2\n",
      "With initial inventory 220 supply will last until week 4\n",
      "With initial inventory 500 supply will last until week 6\n",
      "With initial inventory 1000 supply will last until week 9\n"
     ]
    }
   ],
   "source": [
    "demand=[50,80,89,100,120,140,100,80]\n",
    "for inventory in [10,50,60,130,220,500,1000]:\n",
    "    print('With initial inventory',inventory,'supply will last until week',sellOutTime(demand,inventory))"
   ]
  },
  {
   "cell_type": "markdown",
   "id": "abd220d0-9a2e-4802-b5da-28351d6b6486",
   "metadata": {},
   "source": [
    "## Exercise 2.7: Queue Analysis \n",
    "\n",
    "A popular fast food restaurant is planning to open a branch in a new location and wants to decide how many servers to hire. To help them, write a function \"avQueueLength\" with two input parameters:\n",
    "\n",
    "- k: the number of customers that can be served in a minute. (assumed to be integer)\n",
    "- demand: a list of integers specifying how many customers arrive each minute. (For simplicity, assume that customers arrive at the beginning of each minute and up to k customers can be served instantly.)\n",
    "\n",
    "The function should return (not print) the average queue length.\n",
    "\n",
    "**Sample run:**\n",
    "```python\n",
    "avQueueLength(3,[2,3,6,8,10,2,1,0,1,0])\n",
    "```\n",
    "\n",
    "**Output:**\n",
    "```\n",
    "7.2\n",
    "```\n",
    "\n",
    "The following table summarizes the evolution of the queue corresponding to the above sample input.\n",
    "\n",
    "| Minute | # of Arrivals | # Served | Queue Length| \n",
    "| -- | -- | -- | -- |\n",
    "| 0  | -- | -- | 0  |\n",
    "| 1  | 2  | 2  | 0  |\n",
    "| 2  | 3  | 3  | 0  |\n",
    "| 3  | 6  | 3  | 3  |\n",
    "| 4  | 8  | 3  | 8  |\n",
    "| 5  | 10 | 3  | 15 |\n",
    "| 6  | 2  | 3  | 14 |\n",
    "| 7  | 1  | 3  | 12 | \n",
    "| 8  | 0  | 3  | 9  |\n",
    "| 9  | 1  | 3  | 7  |\n",
    "| 10 | 0  | 3  | 4  |\n",
    "| **Average** | -- | -- | **7.2** |\n",
    "\n"
   ]
  },
  {
   "cell_type": "markdown",
   "id": "1d75d4df-4b29-4b0c-9b8a-c44e01d4f87b",
   "metadata": {},
   "source": [
    "**When you code, you should first write your code without a function and print out the above table, to ensure that your logic is correct. At the end, embed your code in a function as the problem specifies.**\n"
   ]
  },
  {
   "cell_type": "code",
   "execution_count": 60,
   "id": "48e637ce-ba36-4222-9a29-d58725cc9a30",
   "metadata": {
    "tags": []
   },
   "outputs": [
    {
     "name": "stdout",
     "output_type": "stream",
     "text": [
      "Minute\tArrival\tServed\tQueue\n",
      "1\t2\t2\t0\n",
      "2\t3\t3\t0\n",
      "3\t6\t3\t3\n",
      "4\t8\t3\t8\n",
      "5\t10\t3\t15\n",
      "6\t2\t3\t14\n",
      "7\t1\t3\t12\n",
      "8\t0\t3\t9\n",
      "9\t1\t3\t7\n",
      "10\t0\t3\t4\n",
      "Average Queue Length: 7.2\n"
     ]
    }
   ],
   "source": [
    "# Sample output for the table"
   ]
  },
  {
   "cell_type": "code",
   "execution_count": 69,
   "id": "deb016c8-c0ec-4e2d-af80-64ed4b7de797",
   "metadata": {
    "tags": []
   },
   "outputs": [
    {
     "name": "stdout",
     "output_type": "stream",
     "text": [
      "Minute\tArrival\tServed\tQueue\n",
      "1\t2\t2\t0\n",
      "2\t3\t3\t0\n",
      "3\t6\t3\t3\n",
      "4\t8\t3\t8\n",
      "5\t10\t3\t15\n",
      "6\t2\t3\t14\n",
      "7\t1\t3\t12\n",
      "8\t0\t3\t9\n",
      "9\t1\t3\t7\n",
      "10\t0\t3\t4\n",
      "Average Queue Length: 7.2\n"
     ]
    }
   ],
   "source": [
    "# Version of the code without function encapsulation\n",
    "minute=list(range(1,11))\n",
    "arrival = [2,3,6,8,10,2,1,0,1,0]\n",
    "queue = 0\n",
    "total = 0\n",
    "print('Minute\\tArrival\\tServed\\tQueue')\n",
    "for i in minute:\n",
    "    served = min(3,arrival[i-1]+queue)\n",
    "    queue+=arrival[i-1]-served\n",
    "    total +=queue\n",
    "    print(f'{i}\\t{arrival[i-1]}\\t{served}\\t{queue}')\n",
    "print('Average Queue Length:', total/minute[-1])"
   ]
  },
  {
   "cell_type": "markdown",
   "id": "4ac3c90d-5e44-40ab-ab40-9a328f909eda",
   "metadata": {},
   "source": [
    "The final code is below. Notice that when we don't need to print the table, we don't need to keep track of the variable \"minute\"."
   ]
  },
  {
   "cell_type": "code",
   "execution_count": 72,
   "id": "311577b2-05d6-4b42-b81f-400026e55558",
   "metadata": {
    "tags": []
   },
   "outputs": [],
   "source": [
    "# Final code\n",
    "def avQueueLength(k,demand):\n",
    "    minute=list(range(1,11))\n",
    "    queue = 0\n",
    "    total = 0\n",
    "    for i in minute:\n",
    "        served = min(k,demand[i-1]+queue)\n",
    "        queue+=demand[i-1]-served\n",
    "        total +=queue\n",
    "    return(total/minute[-1])"
   ]
  },
  {
   "cell_type": "code",
   "execution_count": 73,
   "id": "9237a1c4-1748-4d8c-bdf3-5980d48c9616",
   "metadata": {
    "tags": []
   },
   "outputs": [
    {
     "data": {
      "text/plain": [
       "7.2"
      ]
     },
     "execution_count": 73,
     "metadata": {},
     "output_type": "execute_result"
    }
   ],
   "source": [
    "# Test code 1\n",
    "avQueueLength(3,[2,3,6,8,10,2,1,0,1,0])"
   ]
  },
  {
   "cell_type": "code",
   "execution_count": 75,
   "id": "6ce61587-10b1-4e4c-92f3-cb56c9e92ed2",
   "metadata": {
    "tags": []
   },
   "outputs": [
    {
     "name": "stdout",
     "output_type": "stream",
     "text": [
      "Av. Queue Length with 1 server(s): 17.2\n",
      "Av. Queue Length with 2 server(s): 11.7\n",
      "Av. Queue Length with 3 server(s): 7.2\n",
      "Av. Queue Length with 4 server(s): 4.0\n",
      "Av. Queue Length with 5 server(s): 2.2\n"
     ]
    }
   ],
   "source": [
    "# Test code 2\n",
    "demand=[2,3,6,8,10,2,1,0,1,0]\n",
    "for k in range(1,6):\n",
    "    print(f'Av. Queue Length with {k} server(s):',avQueueLength(k,demand))"
   ]
  },
  {
   "cell_type": "markdown",
   "id": "4bb41add-bd9e-45ca-b416-e20a5144c029",
   "metadata": {},
   "source": [
    "To illustrate why the above function is useful, according to a mathematical result known as Little's Law, the average queuing time of customers is \n",
    "\n",
    "$$\\frac{\\text{Average Queue Length}}{\\text{Average Arrival Rate}}=\\frac{7.2}{3.3} \\approx 2.2 \\text{ minutes.}$$"
   ]
  },
  {
   "cell_type": "code",
   "execution_count": 76,
   "id": "a3fe557e-7e45-4053-aa11-4277bdec71d1",
   "metadata": {
    "tags": []
   },
   "outputs": [
    {
     "data": {
      "image/png": "[encoded data removed]",
      "text/plain": [
       "<Figure size 640x480 with 1 Axes>"
      ]
     },
     "metadata": {},
     "output_type": "display_data"
    }
   ],
   "source": [
    "# Test code 3\n",
    "demand=[2,3,6,8,10,8,4,3,2,6,3,2,1,4,5]\n",
    "servers=range(1,11)\n",
    "avArrivalRate=sum(demand)/len(demand)\n",
    "queuingTime=[avQueueLength(k,demand)/avArrivalRate for k in servers]\n",
    "import matplotlib.pyplot as plt\n",
    "plt.plot(servers,queuingTime,'ro-')\n",
    "plt.xlabel('Number of Servers')\n",
    "plt.ylabel('Average Queueing Time (Minutes)')\n",
    "plt.title('Dependence of Queuing Time on Service Rate')\n",
    "plt.show()"
   ]
  },
  {
   "cell_type": "markdown",
   "id": "c8ff81df-0186-4ea7-8c13-0271053f87c5",
   "metadata": {},
   "source": [
    "## Exercise 2.8: Investment Accounting \n",
    "\n",
    "This question asks you to create a tool to perform simple accounting for stock trading. Write a function called \"accounting\" with two input arguments:\n",
    "\n",
    "- prices: a list of positive numbers corresponding to the price of a stock in successive days. \n",
    "- changes: a list of integers (positive or negative) corresponding to the change in the number of shares carried. A positive number corresponds to buying shares of the stock and a negative number corresponds to selling. It is possible for you to own net negative shares of the stock.\n",
    "\n",
    "You may assume that the two lists are of the same length. The function should return (not print) the following two numbers:\n",
    "\n",
    "- net change in shares: the sum of the numbers in the list \"changes\".\n",
    "- net change in cash: the net money spent or earned over the trades in the list \"changes\". Buying the stock costs money and selling it earns money. \n",
    "\n",
    "For example, if `prices=[10,12,13,8,7,15]` and `changes=[3,2,-5,3,1,-5]`, the following table illustrates the calculations.\n",
    "\n",
    "|Price | Change | Cashflow |\n",
    "|--|--|--|\n",
    "|10|+3 | -30 |\n",
    "|12|+2 | -24 |\n",
    "|13|-5 | 65 |\n",
    "|8 | +3 | -24 |\n",
    "|7 | +1 | -7 |\n",
    "|15|-5 | 75 |\n",
    "|**Net**| **-1** | **55** |\n",
    "\n",
    "**When you code, first write your code without a function and print out the above table. Later, embed your code in a function as the problem specifies.**\n",
    "\n",
    "\n",
    "**Sample run:**\n",
    "```python\n",
    "netShares,netCash=accounting([10,12,13,8,7,15],[3,2,-5,3,1,-5])\n",
    "print(f'Net change in position: {netShares} shares.')\n",
    "print(f'Net change in cash: {netCash} dollars.')\n",
    "```\n",
    "\n",
    "**Sample output:**\n",
    "```\n",
    "Net change in position: -1 shares.\n",
    "Net change in cash: 55 dollars.\n",
    "```"
   ]
  },
  {
   "cell_type": "code",
   "execution_count": 65,
   "id": "ad116af6-650c-479f-99b0-292113d7f6a7",
   "metadata": {
    "tags": []
   },
   "outputs": [
    {
     "name": "stdout",
     "output_type": "stream",
     "text": [
      "Price\tChange\tCashflow\n",
      "10\t3\t-30\n",
      "12\t2\t-24\n",
      "13\t-5\t65\n",
      "8\t3\t-24\n",
      "7\t1\t-7\n",
      "15\t-5\t75\n",
      "Net change in position: -1 shares.\n",
      "Net change in cash: 55 dollars.\n"
     ]
    }
   ],
   "source": [
    "# Sample output for the table"
   ]
  },
  {
   "cell_type": "code",
   "execution_count": 84,
   "id": "8d81f83d-9b4b-4597-b780-54c2e39c1075",
   "metadata": {
    "tags": []
   },
   "outputs": [
    {
     "name": "stdout",
     "output_type": "stream",
     "text": [
      "Price\tChange\tCashflow\n",
      "10\t3\t-30\n",
      "12\t2\t-24\n",
      "13\t-5\t65\n",
      "8\t3\t-24\n",
      "7\t1\t-7\n",
      "15\t-5\t75\n",
      "Net change in cash: -1 dollars.\n",
      "Net change in position: 55 shares.\n"
     ]
    }
   ],
   "source": [
    "# Version of code that prints the table\n",
    "Price = [10,12,13,8,7,15]\n",
    "Change = [3,2,-5,3,1,-5]\n",
    "index = 0\n",
    "tcash = 0\n",
    "tchange = sum(Change)\n",
    "print(\"Price\\tChange\\tCashflow\")\n",
    "for i in Price:\n",
    "    Cashflow = -i*Change[index]\n",
    "    print(f\"{i}\\t{Change[index]}\\t{Cashflow}\")\n",
    "    index+=1\n",
    "    tcash+=Cashflow\n",
    "print(f'Net change in cash: {tchange} dollars.')\n",
    "print(f'Net change in position: {tcash} shares.')"
   ]
  },
  {
   "cell_type": "code",
   "execution_count": 95,
   "id": "9dc655d5-cfd7-4049-a52f-6f81280eb603",
   "metadata": {
    "tags": []
   },
   "outputs": [],
   "source": [
    "# Final code\n",
    "def accounting(Price,Change):\n",
    "    index = 0\n",
    "    tcash = 0\n",
    "    tchange = sum(Change)\n",
    "    for i in Price:\n",
    "        Cashflow = -i*Change[index]\n",
    "        index+=1\n",
    "        tcash+=Cashflow\n",
    "    return tchange,tcash"
   ]
  },
  {
   "cell_type": "code",
   "execution_count": 96,
   "id": "20b83c78-193e-448c-a482-b4c93c5ef1a9",
   "metadata": {
    "tags": []
   },
   "outputs": [
    {
     "name": "stdout",
     "output_type": "stream",
     "text": [
      "Net change in position: -1 shares.\n",
      "Net change in cash: 55 dollars.\n"
     ]
    }
   ],
   "source": [
    "# Sample run\n",
    "netShares,netCash=accounting([10,12,13,8,7,15],[3,2,-5,3,1,-5])\n",
    "print(f'Net change in position: {netShares} shares.')\n",
    "print(f'Net change in cash: {netCash} dollars.')"
   ]
  },
  {
   "cell_type": "markdown",
   "id": "827134c6-8b15-42d2-9d38-207522895106",
   "metadata": {},
   "source": [
    "## Exercise 2.9: Appointment Booking\n",
    "\n",
    "This question asks you to create a tool to help administrators schedule appointments over the phone. Assume that every appointment is for a half-hour slot and that the administrator would like to obtain the next $k$ available slots, where $k$ is a given parameter. \n",
    "\n",
    "**Write a function called \"firstAvailable\" with three input arguments:**\n",
    "\n",
    "- `slots`: a list of strings representing names for each slot, in order from earliest to latest.\n",
    "- `availability`: a list of True/False with the same length as the above. True corresponds to a slot being available and False corresponds to it being unavailable. The order of entries is the same as in the previous list.\n",
    "- `k`: a positive integer giving the number of available slots to obtain. \n",
    "\n",
    "The function should print (not return) the names of next $k$ open slots, counting from earliest to latest (according to the order of the lists). If the total number of available slots is less than $k$, then the function should print all available slots. If there are no available slots, then the function should print that there are no slots. See the sample outputs below.\n"
   ]
  },
  {
   "cell_type": "code",
   "execution_count": 123,
   "id": "37ebed88-2c8e-4c6f-8961-73b996dde312",
   "metadata": {
    "tags": []
   },
   "outputs": [],
   "source": [
    "# Write your function here. \n",
    "def firstAvailable(slots,availability,k):\n",
    "    index = 0\n",
    "    for i in range(len(availability)):\n",
    "        if availability[i] == True:\n",
    "            index+=1\n",
    "            print(f\"Available slot {index}: {slots[i]}\")\n",
    "            if k == index:\n",
    "                break\n",
    "            else:\n",
    "                continue\n",
    "    if True not in availability:\n",
    "        print(\"No slots available!\")"
   ]
  },
  {
   "cell_type": "code",
   "execution_count": 124,
   "id": "7651537c-4434-4b85-a284-2f64dc873e4f",
   "metadata": {
    "tags": []
   },
   "outputs": [
    {
     "name": "stdout",
     "output_type": "stream",
     "text": [
      "Available slot 1: Mon 10am\n"
     ]
    }
   ],
   "source": [
    "# Sample run 1\n",
    "slots=['Mon 9am','Mon 9:30am','Mon 10am','Mon 10:30am','Tue 2pm','Tue 2:30pm','Tue 3pm','Tue 3:30pm']\n",
    "availability=[False,False,True,False,True,False,False,False]\n",
    "firstAvailable(slots,availability,1)"
   ]
  },
  {
   "cell_type": "code",
   "execution_count": 125,
   "id": "8afa023a-e116-49c3-9f7a-51d8a1a62ad6",
   "metadata": {
    "tags": []
   },
   "outputs": [
    {
     "name": "stdout",
     "output_type": "stream",
     "text": [
      "Available slot 1: Mon 10am\n",
      "Available slot 2: Tue 2pm\n"
     ]
    }
   ],
   "source": [
    "# Sample run 2\n",
    "slots=['Mon 9am','Mon 9:30am','Mon 10am','Mon 10:30am','Tue 2pm','Tue 2:30pm','Tue 3pm','Tue 3:30pm']\n",
    "availability=[False,False,True,False,True,False,False,False]\n",
    "firstAvailable(slots,availability,2)"
   ]
  },
  {
   "cell_type": "code",
   "execution_count": 126,
   "id": "0c52e18b-9b84-40a2-b0ee-fe9ad77ec3ab",
   "metadata": {
    "tags": []
   },
   "outputs": [
    {
     "name": "stdout",
     "output_type": "stream",
     "text": [
      "Available slot 1: Mon 10am\n",
      "Available slot 2: Tue 2pm\n"
     ]
    }
   ],
   "source": [
    "# Sample run 3\n",
    "slots=['Mon 9am','Mon 9:30am','Mon 10am','Mon 10:30am','Tue 2pm','Tue 2:30pm','Tue 3pm','Tue 3:30pm']\n",
    "availability=[False,False,True,False,True,False,False,False]\n",
    "firstAvailable(slots,availability,3)"
   ]
  },
  {
   "cell_type": "code",
   "execution_count": 127,
   "id": "ce73137b-d2ae-479c-b2bd-b276d3555d30",
   "metadata": {
    "tags": []
   },
   "outputs": [
    {
     "name": "stdout",
     "output_type": "stream",
     "text": [
      "No slots available!\n"
     ]
    }
   ],
   "source": [
    "# Sample run 4\n",
    "slots=['Mon 9am','Mon 9:30am','Mon 10am','Mon 10:30am','Tue 2pm','Tue 2:30pm','Tue 3pm','Tue 3:30pm']\n",
    "availability=[False,False,False,False,False,False,False,False]\n",
    "firstAvailable(slots,availability,4)"
   ]
  }
 ],
 "metadata": {
  "kernelspec": {
   "display_name": "Python 3 (ipykernel)",
   "language": "python",
   "name": "python3"
  },
  "language_info": {
   "codemirror_mode": {
    "name": "ipython",
    "version": 3
   },
   "file_extension": ".py",
   "mimetype": "text/x-python",
   "name": "python",
   "nbconvert_exporter": "python",
   "pygments_lexer": "ipython3",
   "version": "3.11.4"
  }
 },
 "nbformat": 4,
 "nbformat_minor": 5
}
